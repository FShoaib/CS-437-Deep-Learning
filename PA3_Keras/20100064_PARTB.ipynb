{
  "nbformat": 4,
  "nbformat_minor": 0,
  "metadata": {
    "kernelspec": {
      "display_name": "Python 3",
      "language": "python",
      "name": "python3"
    },
    "language_info": {
      "codemirror_mode": {
        "name": "ipython",
        "version": 3
      },
      "file_extension": ".py",
      "mimetype": "text/x-python",
      "name": "python",
      "nbconvert_exporter": "python",
      "pygments_lexer": "ipython3",
      "version": "3.8.1"
    },
    "toc": {
      "base_numbering": 1,
      "nav_menu": {},
      "number_sections": true,
      "sideBar": true,
      "skip_h1_title": false,
      "title_cell": "Table of Contents",
      "title_sidebar": "Contents",
      "toc_cell": false,
      "toc_position": {},
      "toc_section_display": true,
      "toc_window_display": false
    },
    "colab": {
      "name": "CS437_DL_PA3_PartB.ipynb",
      "provenance": [],
      "collapsed_sections": [],
      "toc_visible": true
    }
  },
  "cells": [
    {
      "cell_type": "markdown",
      "metadata": {
        "id": "g6i8qBiwNS-Q",
        "colab_type": "text"
      },
      "source": [
        "# Homework 3  - Part B\n",
        "\n",
        "\n",
        "###### Roll Number:"
      ]
    },
    {
      "cell_type": "markdown",
      "metadata": {
        "id": "2exK2RzwNS-T",
        "colab_type": "text"
      },
      "source": [
        "We'll start Part B by taking out a minute to thank creators of Tensorflow and Keras for making our lives easier. The goal of this home work is to design a convolutional neural network to classify images from CIFAR-10. CIFAR-10 is a subset of CIFAR-100 with 10 and 100 being number of classes. They were collected by Alex Krizhevsky, Vinod Nair, and Geoffrey Hinton. We'll be building small CNNs using Keras to solve this classification task.\n",
        "<br>\n",
        "\n",
        "Please note:\n",
        "- You have to save each trained model weights and tensorboard logs in different folder. Use proper names for the model\n",
        "- You have to show trainings in this notebook file, so make sure that the printings and figures are available on this notebook file\n",
        "- This notebook is also your report file. So add your comments and analysis of each task. Your comments and analysis are as important as your code. This would be considered short report and it is compulsory part of the homework.\n",
        "- Your system memory may overflow. In that case, please reset memory for trained model(s) keeping printed logs and history of trained model. History of all trained models could be used to plot the trends.\n",
        "- For trends you shall also use tensorboard logs "
      ]
    },
    {
      "cell_type": "markdown",
      "metadata": {
        "id": "EQWefSOINS-V",
        "colab_type": "text"
      },
      "source": [
        "### Imports"
      ]
    },
    {
      "cell_type": "code",
      "metadata": {
        "id": "NWLHnPtFNS-X",
        "colab_type": "code",
        "outputId": "88b464f4-93b4-46c4-e45e-cba2a5e1dc41",
        "colab": {
          "base_uri": "https://localhost:8080/",
          "height": 117
        }
      },
      "source": [
        "import keras\n",
        "from keras.models import Model\n",
        "from keras.layers import Dense, Input, Conv2D, MaxPooling2D, Dropout, Flatten, BatchNormalization\n",
        "from keras.optimizers import Adam, SGD\n",
        "from keras.callbacks import ModelCheckpoint, EarlyStopping, CSVLogger, ReduceLROnPlateau, TensorBoard\n",
        "from keras.utils import plot_model, to_categorical\n",
        "import keras.backend as K\n",
        "\n",
        "from sklearn.model_selection import train_test_split\n",
        "from IPython.display import display\n",
        "\n",
        "import cv2\n",
        "import numpy as np\n",
        "import pandas as pd\n",
        "%matplotlib inline\n",
        "import matplotlib.pyplot as plt\n",
        "plt.style.use('seaborn')\n",
        "\n",
        "import os\n",
        "import glob\n",
        "import shutil\n",
        "%cd ../\n",
        "your_id = 20100064\n",
        "np.random.seed(your_id)"
      ],
      "execution_count": 0,
      "outputs": [
        {
          "output_type": "stream",
          "text": [
            "Using TensorFlow backend.\n"
          ],
          "name": "stderr"
        },
        {
          "output_type": "display_data",
          "data": {
            "text/html": [
              "<p style=\"color: red;\">\n",
              "The default version of TensorFlow in Colab will soon switch to TensorFlow 2.x.<br>\n",
              "We recommend you <a href=\"https://www.tensorflow.org/guide/migrate\" target=\"_blank\">upgrade</a> now \n",
              "or ensure your notebook will continue to use TensorFlow 1.x via the <code>%tensorflow_version 1.x</code> magic:\n",
              "<a href=\"https://colab.research.google.com/notebooks/tensorflow_version.ipynb\" target=\"_blank\">more info</a>.</p>\n"
            ],
            "text/plain": [
              "<IPython.core.display.HTML object>"
            ]
          },
          "metadata": {
            "tags": []
          }
        },
        {
          "output_type": "stream",
          "text": [
            "/\n"
          ],
          "name": "stdout"
        }
      ]
    },
    {
      "cell_type": "markdown",
      "metadata": {
        "heading_collapsed": true,
        "id": "RfkSNv9vNS-m",
        "colab_type": "text"
      },
      "source": [
        "###### Hyperparameters"
      ]
    },
    {
      "cell_type": "code",
      "metadata": {
        "hidden": true,
        "id": "q6v2iaMLNS-n",
        "colab_type": "code",
        "colab": {}
      },
      "source": [
        "batch_size = 64\n",
        "num_classes = 10\n",
        "class_labels = np.arange(0, num_classes, 1)\n",
        "input_shape_cifar = (32,32,3)\n",
        "images_dir = './images/cifar/'\n",
        "epochs = 25\n",
        "all_histories = []"
      ],
      "execution_count": 0,
      "outputs": []
    },
    {
      "cell_type": "markdown",
      "metadata": {
        "id": "wchPyWrFNS-r",
        "colab_type": "text"
      },
      "source": [
        "### Task 1.1   Load dataset information\n",
        "Download the [CIFAR-10 Dataset](https://drive.google.com/drive/folders/1FPsts3C2tJMVQ1xcCi2XZdb2z_J2OjSr?usp=sharing) and setup your working directory. Be sure to put the dataset in the <code>images_dir</code> directory. We won't be loading images and will only store the file paths in memory. These file paths will be used to load and return batch of images in our generator. Feel free to explore the dataset in this section."
      ]
    },
    {
      "cell_type": "code",
      "metadata": {
        "id": "788Lzjxr5wAK",
        "colab_type": "code",
        "outputId": "ee55aad6-e711-4c77-d548-a661c17d47fe",
        "colab": {
          "base_uri": "https://localhost:8080/",
          "height": 127
        }
      },
      "source": [
        "from google.colab import drive\n",
        "drive.mount('/content/drive',force_remount=True)"
      ],
      "execution_count": 0,
      "outputs": [
        {
          "output_type": "stream",
          "text": [
            "Go to this URL in a browser: https://accounts.google.com/o/oauth2/auth?client_id=947318989803-6bn6qk8qdgf4n4g3pfee6491hc0brc4i.apps.googleusercontent.com&redirect_uri=urn%3aietf%3awg%3aoauth%3a2.0%3aoob&response_type=code&scope=email%20https%3a%2f%2fwww.googleapis.com%2fauth%2fdocs.test%20https%3a%2f%2fwww.googleapis.com%2fauth%2fdrive%20https%3a%2f%2fwww.googleapis.com%2fauth%2fdrive.photos.readonly%20https%3a%2f%2fwww.googleapis.com%2fauth%2fpeopleapi.readonly\n",
            "\n",
            "Enter your authorization code:\n",
            "··········\n",
            "Mounted at /content/drive\n"
          ],
          "name": "stdout"
        }
      ]
    },
    {
      "cell_type": "code",
      "metadata": {
        "id": "GNtYzD6T_gvJ",
        "colab_type": "code",
        "outputId": "5b065789-c366-402e-a143-78ca0ddef0b9",
        "colab": {
          "base_uri": "https://localhost:8080/",
          "height": 35
        }
      },
      "source": [
        "%cd ../content"
      ],
      "execution_count": 0,
      "outputs": [
        {
          "output_type": "stream",
          "text": [
            "/content\n"
          ],
          "name": "stdout"
        }
      ]
    },
    {
      "cell_type": "code",
      "metadata": {
        "id": "uh223ZBzBePP",
        "colab_type": "code",
        "colab": {}
      },
      "source": [
        "os.mkdir(\"images\")"
      ],
      "execution_count": 0,
      "outputs": []
    },
    {
      "cell_type": "code",
      "metadata": {
        "id": "_GTdH81EHQqI",
        "colab_type": "code",
        "outputId": "b17a6038-6233-46b0-cc88-7305e11dd15f",
        "colab": {
          "base_uri": "https://localhost:8080/",
          "height": 35
        }
      },
      "source": [
        "shutil.copy2('drive/My Drive/cifar.zip', 'images/cifar.zip')\n",
        "#!unzip\"/content/images/cifar.zip\""
      ],
      "execution_count": 0,
      "outputs": [
        {
          "output_type": "execute_result",
          "data": {
            "text/plain": [
              "'images/cifar.zip'"
            ]
          },
          "metadata": {
            "tags": []
          },
          "execution_count": 6
        }
      ]
    },
    {
      "cell_type": "code",
      "metadata": {
        "id": "T-Yx9PGNIqLt",
        "colab_type": "code",
        "outputId": "f63820ba-549e-4b27-a5c6-6049789d92ff",
        "colab": {
          "base_uri": "https://localhost:8080/",
          "height": 35
        }
      },
      "source": [
        "%cd ../content/images\n",
        "#!unzip \"cifar.zip\""
      ],
      "execution_count": 0,
      "outputs": [
        {
          "output_type": "stream",
          "text": [
            "/content/images\n"
          ],
          "name": "stdout"
        }
      ]
    },
    {
      "cell_type": "code",
      "metadata": {
        "id": "sPcyb3E8JdW0",
        "colab_type": "code",
        "colab": {}
      },
      "source": [
        "!unzip \"cifar.zip\""
      ],
      "execution_count": 0,
      "outputs": []
    },
    {
      "cell_type": "code",
      "metadata": {
        "id": "j2bLpWgGHK1U",
        "colab_type": "code",
        "outputId": "b07b7c5e-fc66-41b7-ef69-827052e422ca",
        "colab": {
          "base_uri": "https://localhost:8080/",
          "height": 35
        }
      },
      "source": [
        "%cd ../"
      ],
      "execution_count": 0,
      "outputs": [
        {
          "output_type": "stream",
          "text": [
            "/content\n"
          ],
          "name": "stdout"
        }
      ]
    },
    {
      "cell_type": "code",
      "metadata": {
        "id": "i_g6vTumNS-s",
        "colab_type": "code",
        "colab": {}
      },
      "source": [
        "train_dir = images_dir + 'train/'\n",
        "test_dir = images_dir + 'test/'\n",
        "label_dir = images_dir + 'labels.txt'\n",
        "\n",
        "# Use either os.listdir or glob to generate an array of file paths for training and testing data (I would recommend using glob)\n",
        "lstrain = os.listdir(train_dir)\n",
        "train_files = []\n",
        "for x in lstrain:\n",
        "  train_files.append(os.path.join(train_dir,x))\n",
        "\n",
        "lstest = os.listdir(test_dir)\n",
        "test_files = []\n",
        "for x in lstest:\n",
        "  test_files.append(os.path.join(test_dir,x))\n",
        "\n",
        "# Use labels.txt to store labels in an array/dict (NOTE: The line number corresponds to the actual label)\n",
        "classes = []\n",
        "i = 0\n",
        "with open(label_dir) as f:\n",
        "    classes = f.read().split()\n",
        "\n",
        "# Use sci-kit learn's train_test_split method to generate a validation dataset from the training dataset\n",
        "_ , val_files = train_test_split(train_files,test_size = 0.2)"
      ],
      "execution_count": 0,
      "outputs": []
    },
    {
      "cell_type": "markdown",
      "metadata": {
        "id": "IqzxxzFzNS-x",
        "colab_type": "text"
      },
      "source": [
        "### Task 1.2 Preprocessing\n",
        "Preprocessing of data such as normalization, mean shift, make the learning task simple for network and could accelerate the training process. "
      ]
    },
    {
      "cell_type": "markdown",
      "metadata": {
        "id": "hf2x43_uNS-y",
        "colab_type": "text"
      },
      "source": [
        "###### Task 1.2.1 \n",
        "In images, pixel values range from 0 to 255. To shift the values between (0,1) range, divide input image by 255."
      ]
    },
    {
      "cell_type": "code",
      "metadata": {
        "id": "orEVB12wNS-z",
        "colab_type": "code",
        "colab": {}
      },
      "source": [
        "def preprocessing_norm(images):\n",
        "    return images/255"
      ],
      "execution_count": 0,
      "outputs": []
    },
    {
      "cell_type": "markdown",
      "metadata": {
        "id": "23hS5biONS-4",
        "colab_type": "text"
      },
      "source": [
        "###### Task 1.2.2\n",
        "Compute the channel-wise mean and standard deviation (std). Subtract channel-wise mean and divide by channel-wise std. This will shift the mean to zero and variation to 1 for each channel. "
      ]
    },
    {
      "cell_type": "code",
      "metadata": {
        "id": "eY6lg9VUNS-6",
        "colab_type": "code",
        "colab": {}
      },
      "source": [
        "def preprocessing_meanShift(images):\n",
        "    mean,stdev = cv2.meanStdDev(images)\n",
        "    return (images - mean)/stdev"
      ],
      "execution_count": 0,
      "outputs": []
    },
    {
      "cell_type": "markdown",
      "metadata": {
        "id": "M6qh8FzzNS_D",
        "colab_type": "text"
      },
      "source": [
        "### Task 1.3  Batch Generator\n",
        "Previously, when training our models, we were loading the complete data in memory to fit our model. However, in practice we're working with very large datasets which cannot be loaded all at once in memory. As a solution, we use \"Data Generators\" which are essentially python generators that load batches of data from disk into memory and pass into our models. In order to achieve this, we only store filepaths that point to training/test samples in our dataset in memory. A data generator yields a tuple of (Xs,Ys) whenever the generator is used via the next() function. Implementation of a data generator is open ended, you can add whatever arguments you find necessary in addition to the ones provided."
      ]
    },
    {
      "cell_type": "code",
      "metadata": {
        "id": "mtr2DVEn4NXQ",
        "colab_type": "code",
        "colab": {}
      },
      "source": [
        "def get_sample(sample, preprocessing = None):\n",
        "\n",
        "    fpath = sample['fpath']\n",
        "    img = cv2.imread(fpath) \n",
        "    if preprocessing!=None:\n",
        "      img = preprocessing(img)\n",
        "    \n",
        "    label = np.zeros((num_classes,), dtype='int')\n",
        "    label[classes.index(fpath.split('_')[1].split('.')[0])] = 1\n",
        "    \n",
        "    return img, label"
      ],
      "execution_count": 0,
      "outputs": []
    },
    {
      "cell_type": "code",
      "metadata": {
        "id": "KztfNDHmNS_E",
        "colab_type": "code",
        "colab": {}
      },
      "source": [
        "def data_generator(filepaths, batch_size = 32, preprocessing = None):\n",
        "\n",
        "    filepathsdf = pd.DataFrame(filepaths, columns = ['fpath'])\n",
        "    indexes = np.arange(0, len(filepathsdf), batch_size)\n",
        "\n",
        "    if len(filepathsdf) % batch_size != 0:\n",
        "        indexes = indexes[:-1] \n",
        "    \n",
        "    while True: # 1 iteration represents 1 epoch\n",
        "        np.random.shuffle(indexes) # indexes shuffled for each epoch\n",
        "        for batch_start in indexes: # 1 iteration represents 1 batch\n",
        "            batch_examples = filepathsdf.iloc[batch_start : batch_start+batch_size].reset_index()\n",
        "        \n",
        "            batch_imgs = np.array([(get_sample(row,preprocessing))[0] for _,row in batch_examples.iterrows()])\n",
        "            batch_labels = np.array([(get_sample(row,preprocessing))[1] for _,row in batch_examples.iterrows()])\n",
        "            yield batch_imgs,batch_labels\n",
        "\n",
        "    #while True: # 1 iteration represents 1 epoch\n",
        "      # batch_labels = []\n",
        "      # batch_imgs = []\n",
        "      # for i in range(len(filepaths)):\n",
        "      #   label = classes.index(filepaths[i].split('_')[1].split('.')[0])\n",
        "      #   batch_labels.append(label)\n",
        "      #   img = cv2.imread(filepaths[i])\n",
        "      #   if preprocessing!=None:\n",
        "      #     img = preprocessing(img)\n",
        "      #   batch_imgs.append(img)\n",
        "      #   if len(batch_labels) == batch_size:        \n",
        "      #     yield batch_imgs, batch_labels"
      ],
      "execution_count": 0,
      "outputs": []
    },
    {
      "cell_type": "markdown",
      "metadata": {
        "id": "VrSwNKvQNS_G",
        "colab_type": "text"
      },
      "source": [
        "### Task 1.4 Design CNN model\n",
        "**IMPORTANT**: For each model you create, you need to conduct analysis in a markdown cell below the code cell containing the model's training. Your analysis should include plots, comments on its accuracy/loss, etc. Try to predict images and see what images your model is correctly classifying, see if your model is overfitting or not. For each layer you add, specify its function and then comment on its results."
      ]
    },
    {
      "cell_type": "code",
      "metadata": {
        "id": "hJxMIyuWNS_I",
        "colab_type": "code",
        "outputId": "4cdd7637-4391-41a8-c69b-5f53dbd4e0ba",
        "colab": {
          "base_uri": "https://localhost:8080/",
          "height": 145
        }
      },
      "source": [
        "# Design a CNN to predict classes for the images in the dataset. Try to keep your network shallow since you'll be training your model on your PC as well.\n",
        "input_img = Input(shape=(input_shape_cifar), name='input_img')\n",
        "l = Conv2D(1, kernel_size=(3,3), activation='relu')(input_img)\n",
        "l = Conv2D(64, (3, 3), activation='tanh')(l)\n",
        "# When shifting from Convolutional layers to dense layers, we need to Flatten out the 2D matrices into a 1D array\n",
        "l = Flatten()(l)\n",
        "l = Dense(128, activation='relu')(l)\n",
        "output_class = Dense(num_classes, activation='softmax')(l)\n",
        "model_initial = Model(inputs=input_img, outputs=output_class)"
      ],
      "execution_count": 0,
      "outputs": [
        {
          "output_type": "stream",
          "text": [
            "WARNING:tensorflow:From /usr/local/lib/python3.6/dist-packages/keras/backend/tensorflow_backend.py:541: The name tf.placeholder is deprecated. Please use tf.compat.v1.placeholder instead.\n",
            "\n",
            "WARNING:tensorflow:From /usr/local/lib/python3.6/dist-packages/keras/backend/tensorflow_backend.py:66: The name tf.get_default_graph is deprecated. Please use tf.compat.v1.get_default_graph instead.\n",
            "\n",
            "WARNING:tensorflow:From /usr/local/lib/python3.6/dist-packages/keras/backend/tensorflow_backend.py:4432: The name tf.random_uniform is deprecated. Please use tf.random.uniform instead.\n",
            "\n"
          ],
          "name": "stdout"
        }
      ]
    },
    {
      "cell_type": "markdown",
      "metadata": {
        "id": "RXw2Gdb7NS_N",
        "colab_type": "text"
      },
      "source": [
        "#### Compile model and plot"
      ]
    },
    {
      "cell_type": "code",
      "metadata": {
        "id": "tkf6GvtINS_O",
        "colab_type": "code",
        "colab": {}
      },
      "source": [
        "model_name = 'base_model'\n",
        "\n",
        "if not os.path.exists('./'+model_name):\n",
        "    os.mkdir(model_name)\n",
        "   "
      ],
      "execution_count": 0,
      "outputs": []
    },
    {
      "cell_type": "code",
      "metadata": {
        "id": "s4Rkdb5uNS_T",
        "colab_type": "code",
        "outputId": "feee772c-2551-43e5-e05f-a46a9e5673c1",
        "colab": {
          "base_uri": "https://localhost:8080/",
          "height": 109
        }
      },
      "source": [
        " # You may tweak the learning rate\n",
        "adam = Adam(lr=0.001)\n",
        "\n",
        "# Use the appropriate loss function and compile the model\n",
        "model_initial.compile(loss= 'categorical_crossentropy', \n",
        "              optimizer=adam, \n",
        "              metrics=['accuracy'])"
      ],
      "execution_count": 0,
      "outputs": [
        {
          "output_type": "stream",
          "text": [
            "WARNING:tensorflow:From /usr/local/lib/python3.6/dist-packages/keras/optimizers.py:793: The name tf.train.Optimizer is deprecated. Please use tf.compat.v1.train.Optimizer instead.\n",
            "\n",
            "WARNING:tensorflow:From /usr/local/lib/python3.6/dist-packages/keras/backend/tensorflow_backend.py:3576: The name tf.log is deprecated. Please use tf.math.log instead.\n",
            "\n"
          ],
          "name": "stdout"
        }
      ]
    },
    {
      "cell_type": "code",
      "metadata": {
        "id": "0G1LEnT0NS_W",
        "colab_type": "code",
        "outputId": "ff0ea38b-9035-4f7e-a3ea-d03e08a831c3",
        "colab": {
          "base_uri": "https://localhost:8080/",
          "height": 564
        }
      },
      "source": [
        "plot_model(model_initial, model_name+'/'+model_name+'.png')"
      ],
      "execution_count": 0,
      "outputs": [
        {
          "output_type": "execute_result",
          "data": {
            "image/png": "[encoded data removed]",
            "text/plain": [
              "<IPython.core.display.Image object>"
            ]
          },
          "metadata": {
            "tags": []
          },
          "execution_count": 18
        }
      ]
    },
    {
      "cell_type": "code",
      "metadata": {
        "id": "FNS0FkM2NS_Y",
        "colab_type": "code",
        "outputId": "5e9d12a8-0ac4-4157-8b7e-64b3f68b8eee",
        "colab": {
          "base_uri": "https://localhost:8080/",
          "height": 377
        }
      },
      "source": [
        "model_initial.summary()"
      ],
      "execution_count": 0,
      "outputs": [
        {
          "output_type": "stream",
          "text": [
            "Model: \"model_1\"\n",
            "_________________________________________________________________\n",
            "Layer (type)                 Output Shape              Param #   \n",
            "=================================================================\n",
            "input_img (InputLayer)       (None, 32, 32, 3)         0         \n",
            "_________________________________________________________________\n",
            "conv2d_1 (Conv2D)            (None, 30, 30, 1)         28        \n",
            "_________________________________________________________________\n",
            "conv2d_2 (Conv2D)            (None, 28, 28, 64)        640       \n",
            "_________________________________________________________________\n",
            "flatten_1 (Flatten)          (None, 50176)             0         \n",
            "_________________________________________________________________\n",
            "dense_1 (Dense)              (None, 128)               6422656   \n",
            "_________________________________________________________________\n",
            "dense_2 (Dense)              (None, 10)                1290      \n",
            "=================================================================\n",
            "Total params: 6,424,614\n",
            "Trainable params: 6,424,614\n",
            "Non-trainable params: 0\n",
            "_________________________________________________________________\n"
          ],
          "name": "stdout"
        }
      ]
    },
    {
      "cell_type": "markdown",
      "metadata": {
        "id": "NZMZKXDjNS_a",
        "colab_type": "text"
      },
      "source": [
        "#### Task 1.5 Training model\n",
        "In order to train the model, instead of \"model.fit\" function, we will use the \"model.fit_generator\" function for training. For details check out [keras documentation](https://keras.io/models/sequential/)"
      ]
    },
    {
      "cell_type": "code",
      "metadata": {
        "id": "rrulrxEcNS_b",
        "colab_type": "code",
        "colab": {}
      },
      "source": [
        "class LRTensorBoard(TensorBoard):\n",
        "    def __init__(self, *args, **kwargs):\n",
        "        super(LRTensorBoard, self).__init__(*args, **kwargs)\n",
        "\n",
        "    def on_epoch_end(self, epoch, logs=None):\n",
        "        logs.update({'lr': K.eval(self.model.optimizer.lr)})\n",
        "        super(LRTensorBoard, self).on_epoch_end(epoch, logs)"
      ],
      "execution_count": 0,
      "outputs": []
    },
    {
      "cell_type": "code",
      "metadata": {
        "id": "ttE0RMpmNS_d",
        "colab_type": "code",
        "colab": {}
      },
      "source": [
        "# Add the following callbacks to your Model: ModelCheckpoin, CSVLogger, ReduceLROnPlateau. The callback for Tensorboard has already been provided to you.\n",
        "checkpoint = ModelCheckpoint(model_name+'/'+model_name+'-{epoch:02d}-{val_loss:.2f}.h5', \n",
        "                             monitor='val_loss', verbose=1, save_best_only=True, mode='auto')\n",
        "csvlogger = CSVLogger(model_name+'/logs.csv', separator=',', append=True)\n",
        "reducelr = ReduceLROnPlateau(monitor='val_loss', factor=0.2, patience=3, min_lr=0.000001, min_delta=0.03)\n",
        "tensorboard = LRTensorBoard(log_dir='./'+model_name, histogram_freq=0, write_graph=True, write_grads=1, \n",
        "                            batch_size=batch_size, write_images=True)\n",
        "\n",
        "callbacks = [checkpoint, tensorboard, csvlogger, reducelr]"
      ],
      "execution_count": 0,
      "outputs": []
    },
    {
      "cell_type": "markdown",
      "metadata": {
        "id": "UFM1MHahNS_f",
        "colab_type": "text"
      },
      "source": [
        "#### Task 1.5.1 \n",
        "Train model without using any pre-processing scheme"
      ]
    },
    {
      "cell_type": "code",
      "metadata": {
        "id": "kpNQpMGhNS_g",
        "colab_type": "code",
        "colab": {}
      },
      "source": [
        "# Create three generators: For training your model, for validation, for testing.\n",
        "train_gen = data_generator(train_files , batch_size)\n",
        "val_gen = data_generator(val_files, batch_size)\n",
        "test_gen = data_generator(test_files, batch_size)\n"
      ],
      "execution_count": 0,
      "outputs": []
    },
    {
      "cell_type": "code",
      "metadata": {
        "scrolled": true,
        "id": "f4eNJLVfNS_l",
        "colab_type": "code",
        "outputId": "18923dd1-6bcd-4d53-ffff-71dab974070e",
        "colab": {
          "base_uri": "https://localhost:8080/",
          "height": 1000
        }
      },
      "source": [
        "# Start training your model here\n",
        "esteps = len(train_files)//batch_size\n",
        "vsteps = len(val_files)//batch_size\n",
        "\n",
        "hist_initial =  model_initial.fit_generator(train_gen, epochs=epochs, steps_per_epoch=esteps,\n",
        "                           validation_data = val_gen, validation_steps = vsteps,\n",
        "                           callbacks=callbacks, verbose=1)\n",
        "all_histories.append(hist_initial)"
      ],
      "execution_count": 0,
      "outputs": [
        {
          "output_type": "stream",
          "text": [
            "WARNING:tensorflow:From /usr/local/lib/python3.6/dist-packages/tensorflow_core/python/ops/math_grad.py:1424: where (from tensorflow.python.ops.array_ops) is deprecated and will be removed in a future version.\n",
            "Instructions for updating:\n",
            "Use tf.where in 2.0, which has the same broadcast rule as np.where\n",
            "WARNING:tensorflow:From /usr/local/lib/python3.6/dist-packages/keras/backend/tensorflow_backend.py:1033: The name tf.assign_add is deprecated. Please use tf.compat.v1.assign_add instead.\n",
            "\n",
            "WARNING:tensorflow:From /usr/local/lib/python3.6/dist-packages/keras/backend/tensorflow_backend.py:1020: The name tf.assign is deprecated. Please use tf.compat.v1.assign instead.\n",
            "\n",
            "WARNING:tensorflow:From /usr/local/lib/python3.6/dist-packages/keras/backend/tensorflow_backend.py:3005: The name tf.Session is deprecated. Please use tf.compat.v1.Session instead.\n",
            "\n",
            "WARNING:tensorflow:From /usr/local/lib/python3.6/dist-packages/keras/backend/tensorflow_backend.py:190: The name tf.get_default_session is deprecated. Please use tf.compat.v1.get_default_session instead.\n",
            "\n",
            "WARNING:tensorflow:From /usr/local/lib/python3.6/dist-packages/keras/backend/tensorflow_backend.py:197: The name tf.ConfigProto is deprecated. Please use tf.compat.v1.ConfigProto instead.\n",
            "\n",
            "WARNING:tensorflow:From /usr/local/lib/python3.6/dist-packages/keras/backend/tensorflow_backend.py:207: The name tf.global_variables is deprecated. Please use tf.compat.v1.global_variables instead.\n",
            "\n",
            "WARNING:tensorflow:From /usr/local/lib/python3.6/dist-packages/keras/backend/tensorflow_backend.py:216: The name tf.is_variable_initialized is deprecated. Please use tf.compat.v1.is_variable_initialized instead.\n",
            "\n",
            "WARNING:tensorflow:From /usr/local/lib/python3.6/dist-packages/keras/backend/tensorflow_backend.py:223: The name tf.variables_initializer is deprecated. Please use tf.compat.v1.variables_initializer instead.\n",
            "\n",
            "WARNING:tensorflow:From /usr/local/lib/python3.6/dist-packages/keras/callbacks.py:1122: The name tf.summary.merge_all is deprecated. Please use tf.compat.v1.summary.merge_all instead.\n",
            "\n",
            "WARNING:tensorflow:From /usr/local/lib/python3.6/dist-packages/keras/callbacks.py:1125: The name tf.summary.FileWriter is deprecated. Please use tf.compat.v1.summary.FileWriter instead.\n",
            "\n",
            "Epoch 1/25\n",
            "781/781 [==============================] - 160s 205ms/step - loss: 14.4918 - acc: 0.1000 - val_loss: 14.4440 - val_acc: 0.1039\n",
            "\n",
            "Epoch 00001: val_loss improved from inf to 14.44397, saving model to base_model/base_model-01-14.44.h5\n",
            "WARNING:tensorflow:From /usr/local/lib/python3.6/dist-packages/keras/callbacks.py:1265: The name tf.Summary is deprecated. Please use tf.compat.v1.Summary instead.\n",
            "\n",
            "Epoch 2/25\n",
            "781/781 [==============================] - 157s 202ms/step - loss: 14.5061 - acc: 0.1000 - val_loss: 14.4440 - val_acc: 0.1039\n",
            "\n",
            "Epoch 00002: val_loss did not improve from 14.44397\n",
            "Epoch 3/25\n",
            "781/781 [==============================] - 157s 201ms/step - loss: 14.5061 - acc: 0.1000 - val_loss: 14.4440 - val_acc: 0.1039\n",
            "\n",
            "Epoch 00003: val_loss did not improve from 14.44397\n",
            "Epoch 4/25\n",
            "781/781 [==============================] - 157s 201ms/step - loss: 14.5061 - acc: 0.1000 - val_loss: 14.4440 - val_acc: 0.1039\n",
            "\n",
            "Epoch 00004: val_loss did not improve from 14.44397\n",
            "Epoch 5/25\n",
            "781/781 [==============================] - 157s 201ms/step - loss: 14.5061 - acc: 0.1000 - val_loss: 14.4440 - val_acc: 0.1039\n",
            "\n",
            "Epoch 00005: val_loss did not improve from 14.44397\n",
            "Epoch 6/25\n",
            "781/781 [==============================] - 158s 202ms/step - loss: 14.5061 - acc: 0.1000 - val_loss: 14.4440 - val_acc: 0.1039\n",
            "\n",
            "Epoch 00006: val_loss did not improve from 14.44397\n",
            "Epoch 7/25\n",
            "781/781 [==============================] - 157s 201ms/step - loss: 14.5061 - acc: 0.1000 - val_loss: 14.4440 - val_acc: 0.1039\n",
            "\n",
            "Epoch 00007: val_loss did not improve from 14.44397\n",
            "Epoch 8/25\n",
            "781/781 [==============================] - 158s 202ms/step - loss: 14.5061 - acc: 0.1000 - val_loss: 14.4440 - val_acc: 0.1039\n",
            "\n",
            "Epoch 00008: val_loss did not improve from 14.44397\n",
            "Epoch 9/25\n",
            "781/781 [==============================] - 158s 202ms/step - loss: 14.5061 - acc: 0.1000 - val_loss: 14.4440 - val_acc: 0.1039\n",
            "\n",
            "Epoch 00009: val_loss did not improve from 14.44397\n",
            "Epoch 10/25\n",
            "781/781 [==============================] - 157s 201ms/step - loss: 14.5061 - acc: 0.1000 - val_loss: 14.4440 - val_acc: 0.1039\n",
            "\n",
            "Epoch 00010: val_loss did not improve from 14.44397\n",
            "Epoch 11/25\n",
            "781/781 [==============================] - 157s 201ms/step - loss: 14.5061 - acc: 0.1000 - val_loss: 14.4440 - val_acc: 0.1039\n",
            "\n",
            "Epoch 00011: val_loss did not improve from 14.44397\n",
            "Epoch 12/25\n",
            "781/781 [==============================] - 157s 200ms/step - loss: 14.5061 - acc: 0.1000 - val_loss: 14.4440 - val_acc: 0.1039\n",
            "\n",
            "Epoch 00012: val_loss did not improve from 14.44397\n",
            "Epoch 13/25\n",
            "781/781 [==============================] - 157s 200ms/step - loss: 14.5061 - acc: 0.1000 - val_loss: 14.4440 - val_acc: 0.1039\n",
            "\n",
            "Epoch 00013: val_loss did not improve from 14.44397\n",
            "Epoch 14/25\n",
            "781/781 [==============================] - 156s 200ms/step - loss: 14.5061 - acc: 0.1000 - val_loss: 14.4440 - val_acc: 0.1039\n",
            "\n",
            "Epoch 00014: val_loss did not improve from 14.44397\n",
            "Epoch 15/25\n",
            "781/781 [==============================] - 157s 201ms/step - loss: 14.5061 - acc: 0.1000 - val_loss: 14.4440 - val_acc: 0.1039\n",
            "\n",
            "Epoch 00015: val_loss did not improve from 14.44397\n",
            "Epoch 16/25\n",
            "781/781 [==============================] - 157s 201ms/step - loss: 14.5061 - acc: 0.1000 - val_loss: 14.4440 - val_acc: 0.1039\n",
            "\n",
            "Epoch 00016: val_loss did not improve from 14.44397\n",
            "Epoch 17/25\n",
            "781/781 [==============================] - 156s 200ms/step - loss: 14.5061 - acc: 0.1000 - val_loss: 14.4440 - val_acc: 0.1039\n",
            "\n",
            "Epoch 00017: val_loss did not improve from 14.44397\n",
            "Epoch 18/25\n",
            "781/781 [==============================] - 156s 200ms/step - loss: 14.5061 - acc: 0.1000 - val_loss: 14.4440 - val_acc: 0.1039\n",
            "\n",
            "Epoch 00018: val_loss did not improve from 14.44397\n",
            "Epoch 19/25\n",
            "781/781 [==============================] - 156s 200ms/step - loss: 14.5061 - acc: 0.1000 - val_loss: 14.4440 - val_acc: 0.1039\n",
            "\n",
            "Epoch 00019: val_loss did not improve from 14.44397\n",
            "Epoch 20/25\n",
            "781/781 [==============================] - 156s 200ms/step - loss: 14.5061 - acc: 0.1000 - val_loss: 14.4440 - val_acc: 0.1039\n",
            "\n",
            "Epoch 00020: val_loss did not improve from 14.44397\n",
            "Epoch 21/25\n",
            "781/781 [==============================] - 156s 200ms/step - loss: 14.5061 - acc: 0.1000 - val_loss: 14.4440 - val_acc: 0.1039\n",
            "\n",
            "Epoch 00021: val_loss did not improve from 14.44397\n",
            "Epoch 22/25\n",
            "781/781 [==============================] - 156s 200ms/step - loss: 14.5061 - acc: 0.1000 - val_loss: 14.4440 - val_acc: 0.1039\n",
            "\n",
            "Epoch 00022: val_loss did not improve from 14.44397\n",
            "Epoch 23/25\n",
            "781/781 [==============================] - 156s 200ms/step - loss: 14.5061 - acc: 0.1000 - val_loss: 14.4440 - val_acc: 0.1039\n",
            "\n",
            "Epoch 00023: val_loss did not improve from 14.44397\n",
            "Epoch 24/25\n",
            "781/781 [==============================] - 157s 201ms/step - loss: 14.5061 - acc: 0.1000 - val_loss: 14.4440 - val_acc: 0.1039\n",
            "\n",
            "Epoch 00024: val_loss did not improve from 14.44397\n",
            "Epoch 25/25\n",
            "781/781 [==============================] - 157s 202ms/step - loss: 14.5061 - acc: 0.1000 - val_loss: 14.4440 - val_acc: 0.1039\n",
            "\n",
            "Epoch 00025: val_loss did not improve from 14.44397\n"
          ],
          "name": "stdout"
        }
      ]
    },
    {
      "cell_type": "markdown",
      "metadata": {
        "id": "tN3faEfDNS_n",
        "colab_type": "text"
      },
      "source": [
        "#### Task 1.5.2 \n",
        "Train model by using data preprocessing i.e normalization or mean shift. "
      ]
    },
    {
      "cell_type": "code",
      "metadata": {
        "id": "BxIKy5YINS_o",
        "colab_type": "code",
        "colab": {}
      },
      "source": [
        "input_img = Input(shape=(input_shape_cifar), name='input_img')\n",
        "l = Conv2D(1, kernel_size=(3,3), activation='relu')(input_img)\n",
        "l = Conv2D(64, (3, 3), activation='tanh')(l)\n",
        "# When shifting from Convolutional layers to dense layers, we need to Flatten out the 2D matrices into a 1D array\n",
        "l = Flatten()(l)\n",
        "l = Dense(128, activation='relu')(l)\n",
        "output_class = Dense(num_classes, activation='softmax')(l)\n",
        "model_preprocessed = Model(inputs=input_img, outputs=output_class)"
      ],
      "execution_count": 0,
      "outputs": []
    },
    {
      "cell_type": "code",
      "metadata": {
        "id": "Haa-7d2_NS_s",
        "colab_type": "code",
        "colab": {}
      },
      "source": [
        "model_name = 'model_preprocessed_input'\n",
        "\n",
        "if not os.path.exists('./'+model_name):\n",
        "    os.mkdir(model_name)\n",
        "    "
      ],
      "execution_count": 0,
      "outputs": []
    },
    {
      "cell_type": "code",
      "metadata": {
        "id": "QwjEVCLYNS_u",
        "colab_type": "code",
        "colab": {}
      },
      "source": [
        "# You may tweak this Learning Rate\n",
        "adam = Adam(lr=0.0001)\n",
        "\n",
        "# Compile your model using an appropriate loss\n",
        "model_preprocessed.compile(loss='categorical_crossentropy', \n",
        "              optimizer=adam, \n",
        "              metrics=['accuracy'])"
      ],
      "execution_count": 0,
      "outputs": []
    },
    {
      "cell_type": "code",
      "metadata": {
        "id": "CBb-pVdyNS_w",
        "colab_type": "code",
        "outputId": "122cd649-00a6-4750-e313-fec550158abb",
        "colab": {
          "base_uri": "https://localhost:8080/",
          "height": 564
        }
      },
      "source": [
        "plot_model(model_preprocessed, model_name+'/'+model_name+'.png')"
      ],
      "execution_count": 0,
      "outputs": [
        {
          "output_type": "execute_result",
          "data": {
            "image/png": "[encoded data removed]",
            "text/plain": [
              "<IPython.core.display.Image object>"
            ]
          },
          "metadata": {
            "tags": []
          },
          "execution_count": 31
        }
      ]
    },
    {
      "cell_type": "code",
      "metadata": {
        "id": "UVEAqKUvNS_y",
        "colab_type": "code",
        "outputId": "e3f223c2-3550-4269-dbd3-07d05d31e59f",
        "colab": {
          "base_uri": "https://localhost:8080/",
          "height": 377
        }
      },
      "source": [
        "model_preprocessed.summary()"
      ],
      "execution_count": 0,
      "outputs": [
        {
          "output_type": "stream",
          "text": [
            "Model: \"model_2\"\n",
            "_________________________________________________________________\n",
            "Layer (type)                 Output Shape              Param #   \n",
            "=================================================================\n",
            "input_img (InputLayer)       (None, 32, 32, 3)         0         \n",
            "_________________________________________________________________\n",
            "conv2d_3 (Conv2D)            (None, 30, 30, 1)         28        \n",
            "_________________________________________________________________\n",
            "conv2d_4 (Conv2D)            (None, 28, 28, 64)        640       \n",
            "_________________________________________________________________\n",
            "flatten_2 (Flatten)          (None, 50176)             0         \n",
            "_________________________________________________________________\n",
            "dense_3 (Dense)              (None, 128)               6422656   \n",
            "_________________________________________________________________\n",
            "dense_4 (Dense)              (None, 10)                1290      \n",
            "=================================================================\n",
            "Total params: 6,424,614\n",
            "Trainable params: 6,424,614\n",
            "Non-trainable params: 0\n",
            "_________________________________________________________________\n"
          ],
          "name": "stdout"
        }
      ]
    },
    {
      "cell_type": "code",
      "metadata": {
        "id": "kJcqmA7HNS_z",
        "colab_type": "code",
        "colab": {}
      },
      "source": [
        "# Add the following callbacks: ModelCheckpoint, CSVLogger. The callback for tensorboard has been provided to you.\n",
        "checkpoint = ModelCheckpoint(model_name+'/'+model_name+'-{epoch:02d}-{val_loss:.2f}.h5', \n",
        "                             monitor='val_loss', verbose=1, save_best_only=True, mode='auto')\n",
        "csvlogger = CSVLogger(model_name+'/logs.csv', separator=',', append=True)\n",
        "reducelr = ReduceLROnPlateau(monitor='val_loss', factor=0.2, patience=3, min_lr=0.000001, min_delta=0.03)\n",
        "tensorboard = LRTensorBoard(log_dir='./'+model_name, histogram_freq=0, write_graph=True, write_grads=1, \n",
        "                            batch_size=batch_size, write_images=True)\n",
        "\n",
        "callbacks = [checkpoint, tensorboard, csvlogger, reducelr]"
      ],
      "execution_count": 0,
      "outputs": []
    },
    {
      "cell_type": "code",
      "metadata": {
        "id": "aqdFcTyfNS_1",
        "colab_type": "code",
        "colab": {}
      },
      "source": [
        "train_gen = data_generator(train_files , batch_size, preprocessing = preprocessing_norm)\n",
        "val_gen = data_generator(val_files, batch_size, preprocessing = preprocessing_norm)\n",
        "test_gen = data_generator(test_files, batch_size, preprocessing = preprocessing_norm)"
      ],
      "execution_count": 0,
      "outputs": []
    },
    {
      "cell_type": "code",
      "metadata": {
        "id": "nJ3MxC54NS_2",
        "colab_type": "code",
        "outputId": "a61acc9f-a74c-4525-d2b8-5eb8bff4d448",
        "colab": {
          "base_uri": "https://localhost:8080/",
          "height": 1000
        }
      },
      "source": [
        "esteps = len(train_files)//batch_size\n",
        "vsteps = len(val_files)//batch_size\n",
        "hist_preprocessed = model_preprocessed.fit_generator(train_gen, epochs=epochs, steps_per_epoch=esteps,\n",
        "                           validation_data = val_gen, validation_steps = vsteps,\n",
        "                           callbacks=callbacks, verbose=1)\n",
        "all_histories.append(hist_preprocessed)"
      ],
      "execution_count": 0,
      "outputs": [
        {
          "output_type": "stream",
          "text": [
            "Epoch 1/25\n",
            "781/781 [==============================] - 162s 207ms/step - loss: 2.0607 - acc: 0.2596 - val_loss: 1.9215 - val_acc: 0.3248\n",
            "\n",
            "Epoch 00001: val_loss improved from inf to 1.92148, saving model to model_preprocessed_input/model_preprocessed_input-01-1.92.h5\n",
            "Epoch 2/25\n",
            "781/781 [==============================] - 161s 206ms/step - loss: 1.8750 - acc: 0.3360 - val_loss: 1.7848 - val_acc: 0.3798\n",
            "\n",
            "Epoch 00002: val_loss improved from 1.92148 to 1.78485, saving model to model_preprocessed_input/model_preprocessed_input-02-1.78.h5\n",
            "Epoch 3/25\n",
            "781/781 [==============================] - 159s 204ms/step - loss: 1.7577 - acc: 0.3865 - val_loss: 1.6661 - val_acc: 0.4227\n",
            "\n",
            "Epoch 00003: val_loss improved from 1.78485 to 1.66610, saving model to model_preprocessed_input/model_preprocessed_input-03-1.67.h5\n",
            "Epoch 4/25\n",
            "781/781 [==============================] - 159s 204ms/step - loss: 1.6596 - acc: 0.4243 - val_loss: 1.5708 - val_acc: 0.4606\n",
            "\n",
            "Epoch 00004: val_loss improved from 1.66610 to 1.57077, saving model to model_preprocessed_input/model_preprocessed_input-04-1.57.h5\n",
            "Epoch 5/25\n",
            "781/781 [==============================] - 158s 203ms/step - loss: 1.5752 - acc: 0.4532 - val_loss: 1.4801 - val_acc: 0.4900\n",
            "\n",
            "Epoch 00005: val_loss improved from 1.57077 to 1.48010, saving model to model_preprocessed_input/model_preprocessed_input-05-1.48.h5\n",
            "Epoch 6/25\n",
            "781/781 [==============================] - 159s 204ms/step - loss: 1.5067 - acc: 0.4756 - val_loss: 1.4071 - val_acc: 0.5213\n",
            "\n",
            "Epoch 00006: val_loss improved from 1.48010 to 1.40714, saving model to model_preprocessed_input/model_preprocessed_input-06-1.41.h5\n",
            "Epoch 7/25\n",
            "781/781 [==============================] - 158s 202ms/step - loss: 1.4485 - acc: 0.4987 - val_loss: 1.3421 - val_acc: 0.5444\n",
            "\n",
            "Epoch 00007: val_loss improved from 1.40714 to 1.34214, saving model to model_preprocessed_input/model_preprocessed_input-07-1.34.h5\n",
            "Epoch 8/25\n",
            "781/781 [==============================] - 159s 203ms/step - loss: 1.3931 - acc: 0.5179 - val_loss: 1.2880 - val_acc: 0.5631\n",
            "\n",
            "Epoch 00008: val_loss improved from 1.34214 to 1.28796, saving model to model_preprocessed_input/model_preprocessed_input-08-1.29.h5\n",
            "Epoch 9/25\n",
            "781/781 [==============================] - 159s 204ms/step - loss: 1.3453 - acc: 0.5338 - val_loss: 1.2432 - val_acc: 0.5771\n",
            "\n",
            "Epoch 00009: val_loss improved from 1.28796 to 1.24319, saving model to model_preprocessed_input/model_preprocessed_input-09-1.24.h5\n",
            "Epoch 10/25\n",
            "781/781 [==============================] - 162s 208ms/step - loss: 1.3010 - acc: 0.5523 - val_loss: 1.1948 - val_acc: 0.5946\n",
            "\n",
            "Epoch 00010: val_loss improved from 1.24319 to 1.19477, saving model to model_preprocessed_input/model_preprocessed_input-10-1.19.h5\n",
            "Epoch 11/25\n",
            "781/781 [==============================] - 159s 203ms/step - loss: 1.2582 - acc: 0.5677 - val_loss: 1.1506 - val_acc: 0.6187\n",
            "\n",
            "Epoch 00011: val_loss improved from 1.19477 to 1.15063, saving model to model_preprocessed_input/model_preprocessed_input-11-1.15.h5\n",
            "Epoch 12/25\n",
            "781/781 [==============================] - 159s 203ms/step - loss: 1.2198 - acc: 0.5811 - val_loss: 1.1105 - val_acc: 0.6300\n",
            "\n",
            "Epoch 00012: val_loss improved from 1.15063 to 1.11047, saving model to model_preprocessed_input/model_preprocessed_input-12-1.11.h5\n",
            "Epoch 13/25\n",
            "781/781 [==============================] - 158s 203ms/step - loss: 1.1835 - acc: 0.5936 - val_loss: 1.0819 - val_acc: 0.6368\n",
            "\n",
            "Epoch 00013: val_loss improved from 1.11047 to 1.08194, saving model to model_preprocessed_input/model_preprocessed_input-13-1.08.h5\n",
            "Epoch 14/25\n",
            "781/781 [==============================] - 158s 202ms/step - loss: 1.1494 - acc: 0.6053 - val_loss: 1.0363 - val_acc: 0.6538\n",
            "\n",
            "Epoch 00014: val_loss improved from 1.08194 to 1.03634, saving model to model_preprocessed_input/model_preprocessed_input-14-1.04.h5\n",
            "Epoch 15/25\n",
            "781/781 [==============================] - 158s 203ms/step - loss: 1.1152 - acc: 0.6183 - val_loss: 1.0031 - val_acc: 0.6682\n",
            "\n",
            "Epoch 00015: val_loss improved from 1.03634 to 1.00310, saving model to model_preprocessed_input/model_preprocessed_input-15-1.00.h5\n",
            "Epoch 16/25\n",
            "781/781 [==============================] - 158s 203ms/step - loss: 1.0837 - acc: 0.6284 - val_loss: 0.9689 - val_acc: 0.6833\n",
            "\n",
            "Epoch 00016: val_loss improved from 1.00310 to 0.96893, saving model to model_preprocessed_input/model_preprocessed_input-16-0.97.h5\n",
            "Epoch 17/25\n",
            "781/781 [==============================] - 159s 204ms/step - loss: 1.0535 - acc: 0.6403 - val_loss: 0.9412 - val_acc: 0.6927\n",
            "\n",
            "Epoch 00017: val_loss improved from 0.96893 to 0.94121, saving model to model_preprocessed_input/model_preprocessed_input-17-0.94.h5\n",
            "Epoch 18/25\n",
            "781/781 [==============================] - 160s 205ms/step - loss: 1.0252 - acc: 0.6491 - val_loss: 0.9114 - val_acc: 0.7013\n",
            "\n",
            "Epoch 00018: val_loss improved from 0.94121 to 0.91143, saving model to model_preprocessed_input/model_preprocessed_input-18-0.91.h5\n",
            "Epoch 19/25\n",
            "781/781 [==============================] - 159s 203ms/step - loss: 0.9977 - acc: 0.6608 - val_loss: 0.8888 - val_acc: 0.7083\n",
            "\n",
            "Epoch 00019: val_loss improved from 0.91143 to 0.88880, saving model to model_preprocessed_input/model_preprocessed_input-19-0.89.h5\n",
            "Epoch 20/25\n",
            "781/781 [==============================] - 159s 203ms/step - loss: 0.9720 - acc: 0.6683 - val_loss: 0.8617 - val_acc: 0.7140\n",
            "\n",
            "Epoch 00020: val_loss improved from 0.88880 to 0.86175, saving model to model_preprocessed_input/model_preprocessed_input-20-0.86.h5\n",
            "Epoch 21/25\n",
            "781/781 [==============================] - 159s 204ms/step - loss: 0.9450 - acc: 0.6802 - val_loss: 0.8333 - val_acc: 0.7315\n",
            "\n",
            "Epoch 00021: val_loss improved from 0.86175 to 0.83330, saving model to model_preprocessed_input/model_preprocessed_input-21-0.83.h5\n",
            "Epoch 22/25\n",
            "781/781 [==============================] - 159s 204ms/step - loss: 0.9212 - acc: 0.6873 - val_loss: 0.8100 - val_acc: 0.7387\n",
            "\n",
            "Epoch 00022: val_loss improved from 0.83330 to 0.81002, saving model to model_preprocessed_input/model_preprocessed_input-22-0.81.h5\n",
            "Epoch 23/25\n",
            "781/781 [==============================] - 159s 204ms/step - loss: 0.8970 - acc: 0.6983 - val_loss: 0.7830 - val_acc: 0.7466\n",
            "\n",
            "Epoch 00023: val_loss improved from 0.81002 to 0.78297, saving model to model_preprocessed_input/model_preprocessed_input-23-0.78.h5\n",
            "Epoch 24/25\n",
            "781/781 [==============================] - 158s 202ms/step - loss: 0.8735 - acc: 0.7053 - val_loss: 0.7609 - val_acc: 0.7568\n",
            "\n",
            "Epoch 00024: val_loss improved from 0.78297 to 0.76090, saving model to model_preprocessed_input/model_preprocessed_input-24-0.76.h5\n",
            "Epoch 25/25\n",
            "781/781 [==============================] - 158s 203ms/step - loss: 0.8501 - acc: 0.7124 - val_loss: 0.7387 - val_acc: 0.7643\n",
            "\n",
            "Epoch 00025: val_loss improved from 0.76090 to 0.73867, saving model to model_preprocessed_input/model_preprocessed_input-25-0.74.h5\n"
          ],
          "name": "stdout"
        }
      ]
    },
    {
      "cell_type": "markdown",
      "metadata": {
        "id": "_uK63-EyNS_4",
        "colab_type": "text"
      },
      "source": [
        "### Task 2.1 Pooling\n",
        "Now, you need to modify the model by adding pooling layer(s). Pooling could be average pooling or max pooling. You can use the size and stride for pooling of your choice. \n",
        "<br> \n",
        "Modify the network by introducing pooling layer and train the model using the __fit_generator__ function. "
      ]
    },
    {
      "cell_type": "code",
      "metadata": {
        "id": "IfjaVjELNS_4",
        "colab_type": "code",
        "outputId": "4c22c3fa-9967-426f-a180-4be4a10d8e49",
        "colab": {
          "base_uri": "https://localhost:8080/",
          "height": 73
        }
      },
      "source": [
        "model_name = 'model_pooling'\n",
        "\n",
        "input_img = Input(shape=(input_shape_cifar), name='input_img')\n",
        "l = Conv2D(1, kernel_size=(3,3), activation='relu')(input_img)\n",
        "l = Conv2D(64, (3, 3), activation='tanh')(l)\n",
        "l = MaxPooling2D(pool_size=(2, 2))(l)\n",
        "# When shifting from Convolutional layers to dense layers, we need to Flatten out the 2D matrices into a 1D array\n",
        "l = Flatten()(l)\n",
        "l = Dense(128, activation='relu')(l)\n",
        "output_class = Dense(num_classes, activation='softmax')(l)\n",
        "\n",
        "model_pooled = Model(inputs=input_img, outputs=output_class)\n",
        "\n",
        "if not os.path.exists('./'+model_name):\n",
        "    os.mkdir(model_name)"
      ],
      "execution_count": 0,
      "outputs": [
        {
          "output_type": "stream",
          "text": [
            "WARNING:tensorflow:From /usr/local/lib/python3.6/dist-packages/keras/backend/tensorflow_backend.py:4267: The name tf.nn.max_pool is deprecated. Please use tf.nn.max_pool2d instead.\n",
            "\n"
          ],
          "name": "stdout"
        }
      ]
    },
    {
      "cell_type": "code",
      "metadata": {
        "id": "tnaupfmtNS_6",
        "colab_type": "code",
        "colab": {}
      },
      "source": [
        "adam = Adam(lr=0.0001)\n",
        "model_pooled.compile(loss='categorical_crossentropy', \n",
        "              optimizer=adam, \n",
        "              metrics=['accuracy'])"
      ],
      "execution_count": 0,
      "outputs": []
    },
    {
      "cell_type": "code",
      "metadata": {
        "id": "QHaEF8d7NS_7",
        "colab_type": "code",
        "outputId": "bf8ad511-caea-4a93-b581-489402b65b44",
        "colab": {
          "base_uri": "https://localhost:8080/",
          "height": 413
        }
      },
      "source": [
        "plot_model(model_pooled, model_name+'/'+model_name+'.png')\n",
        "model_pooled.summary()"
      ],
      "execution_count": 0,
      "outputs": [
        {
          "output_type": "stream",
          "text": [
            "Model: \"model_3\"\n",
            "_________________________________________________________________\n",
            "Layer (type)                 Output Shape              Param #   \n",
            "=================================================================\n",
            "input_img (InputLayer)       (None, 32, 32, 3)         0         \n",
            "_________________________________________________________________\n",
            "conv2d_5 (Conv2D)            (None, 30, 30, 1)         28        \n",
            "_________________________________________________________________\n",
            "conv2d_6 (Conv2D)            (None, 28, 28, 64)        640       \n",
            "_________________________________________________________________\n",
            "max_pooling2d_1 (MaxPooling2 (None, 14, 14, 64)        0         \n",
            "_________________________________________________________________\n",
            "flatten_3 (Flatten)          (None, 12544)             0         \n",
            "_________________________________________________________________\n",
            "dense_5 (Dense)              (None, 128)               1605760   \n",
            "_________________________________________________________________\n",
            "dense_6 (Dense)              (None, 10)                1290      \n",
            "=================================================================\n",
            "Total params: 1,607,718\n",
            "Trainable params: 1,607,718\n",
            "Non-trainable params: 0\n",
            "_________________________________________________________________\n"
          ],
          "name": "stdout"
        }
      ]
    },
    {
      "cell_type": "code",
      "metadata": {
        "id": "reF2vJ6PNS_-",
        "colab_type": "code",
        "colab": {}
      },
      "source": [
        "# Add the following callbacks: ModelCheckpoint, CSVLogger\n",
        "checkpoint = ModelCheckpoint(model_name+'/'+model_name+'-{epoch:02d}-{val_loss:.2f}.h5', \n",
        "                             monitor='val_loss', verbose=1, save_best_only=True, mode='auto')\n",
        "csvlogger = CSVLogger(model_name+'/logs.csv', separator=',', append=True)\n",
        "tensorboard = LRTensorBoard(log_dir='./'+model_name, histogram_freq=0, write_graph=True, write_grads=1, \n",
        "                            batch_size=batch_size, write_images=True)\n",
        "\n",
        "callbacks = [checkpoint, tensorboard, csvlogger]"
      ],
      "execution_count": 0,
      "outputs": []
    },
    {
      "cell_type": "code",
      "metadata": {
        "id": "xTizBdSRNTAA",
        "colab_type": "code",
        "colab": {}
      },
      "source": [
        "# Create generators\n",
        "train_gen = data_generator(train_files , batch_size, preprocessing = preprocessing_norm)\n",
        "val_gen = data_generator(val_files, batch_size, preprocessing = preprocessing_norm)\n",
        "test_gen = data_generator(test_files, batch_size, preprocessing = preprocessing_norm)"
      ],
      "execution_count": 0,
      "outputs": []
    },
    {
      "cell_type": "code",
      "metadata": {
        "scrolled": true,
        "id": "XByVbLYLNTAB",
        "colab_type": "code",
        "outputId": "6eddf51d-b873-4b7b-ba10-c1107ecb3417",
        "colab": {
          "base_uri": "https://localhost:8080/",
          "height": 1000
        }
      },
      "source": [
        "esteps = len(train_files)//batch_size\n",
        "vsteps = len(val_files)//batch_size\n",
        "\n",
        "hist_pooled = model_pooled.fit_generator(train_gen, epochs=epochs, steps_per_epoch=esteps,\n",
        "                           validation_data = val_gen, validation_steps = vsteps,\n",
        "                           callbacks=callbacks, verbose=1)\n",
        "all_histories.append(hist_pooled)"
      ],
      "execution_count": 0,
      "outputs": [
        {
          "output_type": "stream",
          "text": [
            "Epoch 1/25\n",
            "781/781 [==============================] - 96s 123ms/step - loss: 2.3027 - acc: 0.0995 - val_loss: 2.3026 - val_acc: 0.1045\n",
            "\n",
            "Epoch 00001: val_loss improved from inf to 2.30258, saving model to model_pooling/model_pooling-01-2.30.h5\n",
            "Epoch 2/25\n",
            "781/781 [==============================] - 97s 124ms/step - loss: 2.0319 - acc: 0.2423 - val_loss: 1.7444 - val_acc: 0.3806\n",
            "\n",
            "Epoch 00002: val_loss improved from 2.30258 to 1.74444, saving model to model_pooling/model_pooling-02-1.74.h5\n",
            "Epoch 3/25\n",
            "781/781 [==============================] - 99s 127ms/step - loss: 1.6807 - acc: 0.4012 - val_loss: 1.5999 - val_acc: 0.4432\n",
            "\n",
            "Epoch 00003: val_loss improved from 1.74444 to 1.59992, saving model to model_pooling/model_pooling-03-1.60.h5\n",
            "Epoch 4/25\n",
            "781/781 [==============================] - 99s 127ms/step - loss: 1.5750 - acc: 0.4455 - val_loss: 1.5111 - val_acc: 0.4789\n",
            "\n",
            "Epoch 00004: val_loss improved from 1.59992 to 1.51110, saving model to model_pooling/model_pooling-04-1.51.h5\n",
            "Epoch 5/25\n",
            "781/781 [==============================] - 100s 128ms/step - loss: 1.5044 - acc: 0.4728 - val_loss: 1.4504 - val_acc: 0.4990\n",
            "\n",
            "Epoch 00005: val_loss improved from 1.51110 to 1.45040, saving model to model_pooling/model_pooling-05-1.45.h5\n",
            "Epoch 6/25\n",
            "781/781 [==============================] - 99s 127ms/step - loss: 1.4467 - acc: 0.4953 - val_loss: 1.3859 - val_acc: 0.5278\n",
            "\n",
            "Epoch 00006: val_loss improved from 1.45040 to 1.38587, saving model to model_pooling/model_pooling-06-1.39.h5\n",
            "Epoch 7/25\n",
            "781/781 [==============================] - 99s 127ms/step - loss: 1.3950 - acc: 0.5160 - val_loss: 1.3420 - val_acc: 0.5414\n",
            "\n",
            "Epoch 00007: val_loss improved from 1.38587 to 1.34203, saving model to model_pooling/model_pooling-07-1.34.h5\n",
            "Epoch 8/25\n",
            "781/781 [==============================] - 99s 127ms/step - loss: 1.3480 - acc: 0.5324 - val_loss: 1.2925 - val_acc: 0.5627\n",
            "\n",
            "Epoch 00008: val_loss improved from 1.34203 to 1.29248, saving model to model_pooling/model_pooling-08-1.29.h5\n",
            "Epoch 9/25\n",
            "781/781 [==============================] - 99s 127ms/step - loss: 1.3043 - acc: 0.5486 - val_loss: 1.2613 - val_acc: 0.5698\n",
            "\n",
            "Epoch 00009: val_loss improved from 1.29248 to 1.26128, saving model to model_pooling/model_pooling-09-1.26.h5\n",
            "Epoch 10/25\n",
            "781/781 [==============================] - 101s 130ms/step - loss: 1.2633 - acc: 0.5642 - val_loss: 1.2280 - val_acc: 0.5861\n",
            "\n",
            "Epoch 00010: val_loss improved from 1.26128 to 1.22796, saving model to model_pooling/model_pooling-10-1.23.h5\n",
            "Epoch 11/25\n",
            "781/781 [==============================] - 98s 125ms/step - loss: 1.2278 - acc: 0.5778 - val_loss: 1.1869 - val_acc: 0.5963\n",
            "\n",
            "Epoch 00011: val_loss improved from 1.22796 to 1.18685, saving model to model_pooling/model_pooling-11-1.19.h5\n",
            "Epoch 12/25\n",
            "781/781 [==============================] - 99s 127ms/step - loss: 1.1949 - acc: 0.5889 - val_loss: 1.1599 - val_acc: 0.6056\n",
            "\n",
            "Epoch 00012: val_loss improved from 1.18685 to 1.15988, saving model to model_pooling/model_pooling-12-1.16.h5\n",
            "Epoch 13/25\n",
            "781/781 [==============================] - 98s 126ms/step - loss: 1.1630 - acc: 0.5995 - val_loss: 1.1261 - val_acc: 0.6198\n",
            "\n",
            "Epoch 00013: val_loss improved from 1.15988 to 1.12614, saving model to model_pooling/model_pooling-13-1.13.h5\n",
            "Epoch 14/25\n",
            "781/781 [==============================] - 99s 127ms/step - loss: 1.1342 - acc: 0.6113 - val_loss: 1.1112 - val_acc: 0.6208\n",
            "\n",
            "Epoch 00014: val_loss improved from 1.12614 to 1.11123, saving model to model_pooling/model_pooling-14-1.11.h5\n",
            "Epoch 15/25\n",
            "781/781 [==============================] - 100s 129ms/step - loss: 1.1062 - acc: 0.6209 - val_loss: 1.0662 - val_acc: 0.6350\n",
            "\n",
            "Epoch 00015: val_loss improved from 1.11123 to 1.06621, saving model to model_pooling/model_pooling-15-1.07.h5\n",
            "Epoch 16/25\n",
            "781/781 [==============================] - 99s 127ms/step - loss: 1.0794 - acc: 0.6306 - val_loss: 1.0403 - val_acc: 0.6480\n",
            "\n",
            "Epoch 00016: val_loss improved from 1.06621 to 1.04030, saving model to model_pooling/model_pooling-16-1.04.h5\n",
            "Epoch 17/25\n",
            "781/781 [==============================] - 98s 126ms/step - loss: 1.0557 - acc: 0.6398 - val_loss: 1.0250 - val_acc: 0.6527\n",
            "\n",
            "Epoch 00017: val_loss improved from 1.04030 to 1.02504, saving model to model_pooling/model_pooling-17-1.03.h5\n",
            "Epoch 18/25\n",
            "781/781 [==============================] - 98s 126ms/step - loss: 1.0320 - acc: 0.6479 - val_loss: 1.0018 - val_acc: 0.6591\n",
            "\n",
            "Epoch 00018: val_loss improved from 1.02504 to 1.00176, saving model to model_pooling/model_pooling-18-1.00.h5\n",
            "Epoch 19/25\n",
            "781/781 [==============================] - 99s 127ms/step - loss: 1.0092 - acc: 0.6557 - val_loss: 0.9745 - val_acc: 0.6731\n",
            "\n",
            "Epoch 00019: val_loss improved from 1.00176 to 0.97447, saving model to model_pooling/model_pooling-19-0.97.h5\n",
            "Epoch 20/25\n",
            "781/781 [==============================] - 98s 126ms/step - loss: 0.9862 - acc: 0.6637 - val_loss: 0.9584 - val_acc: 0.6770\n",
            "\n",
            "Epoch 00020: val_loss improved from 0.97447 to 0.95836, saving model to model_pooling/model_pooling-20-0.96.h5\n",
            "Epoch 21/25\n",
            "781/781 [==============================] - 98s 125ms/step - loss: 0.9649 - acc: 0.6723 - val_loss: 0.9267 - val_acc: 0.6886\n",
            "\n",
            "Epoch 00021: val_loss improved from 0.95836 to 0.92672, saving model to model_pooling/model_pooling-21-0.93.h5\n",
            "Epoch 22/25\n",
            "781/781 [==============================] - 97s 125ms/step - loss: 0.9440 - acc: 0.6786 - val_loss: 0.9045 - val_acc: 0.6941\n",
            "\n",
            "Epoch 00022: val_loss improved from 0.92672 to 0.90452, saving model to model_pooling/model_pooling-22-0.90.h5\n",
            "Epoch 23/25\n",
            "781/781 [==============================] - 97s 124ms/step - loss: 0.9234 - acc: 0.6882 - val_loss: 0.8953 - val_acc: 0.6969\n",
            "\n",
            "Epoch 00023: val_loss improved from 0.90452 to 0.89528, saving model to model_pooling/model_pooling-23-0.90.h5\n",
            "Epoch 24/25\n",
            "781/781 [==============================] - 102s 130ms/step - loss: 0.9015 - acc: 0.6949 - val_loss: 0.8651 - val_acc: 0.7096\n",
            "\n",
            "Epoch 00024: val_loss improved from 0.89528 to 0.86514, saving model to model_pooling/model_pooling-24-0.87.h5\n",
            "Epoch 25/25\n",
            "781/781 [==============================] - 100s 128ms/step - loss: 0.8828 - acc: 0.7021 - val_loss: 0.8490 - val_acc: 0.7176\n",
            "\n",
            "Epoch 00025: val_loss improved from 0.86514 to 0.84895, saving model to model_pooling/model_pooling-25-0.85.h5\n"
          ],
          "name": "stdout"
        }
      ]
    },
    {
      "cell_type": "markdown",
      "metadata": {
        "id": "Jo3BlLjHNTAD",
        "colab_type": "text"
      },
      "source": [
        "### Task 3.1 Dropout\n",
        "Modify the network by introducing dropout layer(s) and train the model using the __fit_generator__ function. "
      ]
    },
    {
      "cell_type": "code",
      "metadata": {
        "id": "CZBXAzvTNTAD",
        "colab_type": "code",
        "outputId": "75677a83-b993-41f2-8618-01603242f99a",
        "colab": {
          "base_uri": "https://localhost:8080/",
          "height": 127
        }
      },
      "source": [
        "model_name = 'model_dropout'\n",
        "\n",
        "input_img = Input(shape=(input_shape_cifar), name='input_img')\n",
        "l = Conv2D(1, kernel_size=(3,3), activation='relu')(input_img)\n",
        "l = Conv2D(64, (3, 3), activation='tanh')(l)\n",
        "l = MaxPooling2D(pool_size=(2, 2))(l)\n",
        "l = Dropout(rate=0.25)(l)\n",
        "# When shifting from Convolutional layers to dense layers, we need to Flatten out the 2D matrices into a 1D array\n",
        "l = Flatten()(l)\n",
        "l = Dense(128, activation='relu')(l)\n",
        "l = Dropout(rate=0.5)(l)\n",
        "output_class = Dense(num_classes, activation='softmax')(l)\n",
        "\n",
        "model_dropout = Model(inputs=input_img, outputs=output_class)\n",
        "\n",
        "if not os.path.exists('./'+model_name):\n",
        "    os.mkdir(model_name)"
      ],
      "execution_count": 0,
      "outputs": [
        {
          "output_type": "stream",
          "text": [
            "WARNING:tensorflow:From /usr/local/lib/python3.6/dist-packages/keras/backend/tensorflow_backend.py:148: The name tf.placeholder_with_default is deprecated. Please use tf.compat.v1.placeholder_with_default instead.\n",
            "\n",
            "WARNING:tensorflow:From /usr/local/lib/python3.6/dist-packages/keras/backend/tensorflow_backend.py:3733: calling dropout (from tensorflow.python.ops.nn_ops) with keep_prob is deprecated and will be removed in a future version.\n",
            "Instructions for updating:\n",
            "Please use `rate` instead of `keep_prob`. Rate should be set to `rate = 1 - keep_prob`.\n"
          ],
          "name": "stdout"
        }
      ]
    },
    {
      "cell_type": "code",
      "metadata": {
        "id": "iPq4WybVNTAF",
        "colab_type": "code",
        "colab": {}
      },
      "source": [
        "adam = Adam(lr=0.0001)\n",
        "model_dropout.compile(loss='categorical_crossentropy', \n",
        "              optimizer=adam, \n",
        "              metrics=['accuracy'])"
      ],
      "execution_count": 0,
      "outputs": []
    },
    {
      "cell_type": "code",
      "metadata": {
        "id": "PGqLqMOLNTAH",
        "colab_type": "code",
        "outputId": "b96c2d05-4795-4985-f2e9-e31ed78b8a4e",
        "colab": {
          "base_uri": "https://localhost:8080/",
          "height": 485
        }
      },
      "source": [
        "plot_model(model_dropout, model_name+'/'+model_name+'.png')\n",
        "model_dropout.summary()"
      ],
      "execution_count": 0,
      "outputs": [
        {
          "output_type": "stream",
          "text": [
            "Model: \"model_4\"\n",
            "_________________________________________________________________\n",
            "Layer (type)                 Output Shape              Param #   \n",
            "=================================================================\n",
            "input_img (InputLayer)       (None, 32, 32, 3)         0         \n",
            "_________________________________________________________________\n",
            "conv2d_7 (Conv2D)            (None, 30, 30, 1)         28        \n",
            "_________________________________________________________________\n",
            "conv2d_8 (Conv2D)            (None, 28, 28, 64)        640       \n",
            "_________________________________________________________________\n",
            "max_pooling2d_2 (MaxPooling2 (None, 14, 14, 64)        0         \n",
            "_________________________________________________________________\n",
            "dropout_1 (Dropout)          (None, 14, 14, 64)        0         \n",
            "_________________________________________________________________\n",
            "flatten_4 (Flatten)          (None, 12544)             0         \n",
            "_________________________________________________________________\n",
            "dense_7 (Dense)              (None, 128)               1605760   \n",
            "_________________________________________________________________\n",
            "dropout_2 (Dropout)          (None, 128)               0         \n",
            "_________________________________________________________________\n",
            "dense_8 (Dense)              (None, 10)                1290      \n",
            "=================================================================\n",
            "Total params: 1,607,718\n",
            "Trainable params: 1,607,718\n",
            "Non-trainable params: 0\n",
            "_________________________________________________________________\n"
          ],
          "name": "stdout"
        }
      ]
    },
    {
      "cell_type": "code",
      "metadata": {
        "id": "V9996nhCNTAJ",
        "colab_type": "code",
        "colab": {}
      },
      "source": [
        "checkpoint = ModelCheckpoint(model_name+'/'+model_name+'-{epoch:02d}-{val_loss:.2f}.h5', \n",
        "                             monitor='val_loss', verbose=1, save_best_only=True, mode='auto')\n",
        "csvlogger = CSVLogger(model_name+'/logs.csv', separator=',', append=True)\n",
        "tensorboard = LRTensorBoard(log_dir='./'+model_name, histogram_freq=0, write_graph=True, write_grads=1, \n",
        "                            batch_size=batch_size, write_images=True)\n",
        "\n",
        "callbacks = [checkpoint, tensorboard, csvlogger]"
      ],
      "execution_count": 0,
      "outputs": []
    },
    {
      "cell_type": "code",
      "metadata": {
        "id": "k28UbfWLNTAK",
        "colab_type": "code",
        "colab": {}
      },
      "source": [
        "# Create three Generators\n",
        "train_gen = data_generator(train_files , batch_size, preprocessing = preprocessing_norm)\n",
        "val_gen = data_generator(val_files, batch_size, preprocessing = preprocessing_norm)\n",
        "test_gen = data_generator(test_files, batch_size, preprocessing = preprocessing_norm)"
      ],
      "execution_count": 0,
      "outputs": []
    },
    {
      "cell_type": "code",
      "metadata": {
        "scrolled": true,
        "id": "4Yp3G0ZFNTAM",
        "colab_type": "code",
        "outputId": "b15e18e2-900b-4331-af3c-18eacae0db58",
        "colab": {
          "base_uri": "https://localhost:8080/",
          "height": 1000
        }
      },
      "source": [
        "esteps = len(train_files)//batch_size\n",
        "vsteps = len(val_files)//batch_size\n",
        "\n",
        "hist_dropout = model_dropout.fit_generator(train_gen, epochs=epochs, steps_per_epoch=esteps,\n",
        "                           validation_data = val_gen, validation_steps = vsteps,\n",
        "                           callbacks=callbacks, verbose=1)\n",
        "\n",
        "all_histories.append(hist_dropout)"
      ],
      "execution_count": 0,
      "outputs": [
        {
          "output_type": "stream",
          "text": [
            "Epoch 1/25\n",
            "781/781 [==============================] - 104s 133ms/step - loss: 2.0933 - acc: 0.2287 - val_loss: 1.8710 - val_acc: 0.3348\n",
            "\n",
            "Epoch 00001: val_loss improved from inf to 1.87097, saving model to model_dropout/model_dropout-01-1.87.h5\n",
            "Epoch 2/25\n",
            "781/781 [==============================] - 105s 134ms/step - loss: 1.8650 - acc: 0.3356 - val_loss: 1.7489 - val_acc: 0.3957\n",
            "\n",
            "Epoch 00002: val_loss improved from 1.87097 to 1.74890, saving model to model_dropout/model_dropout-02-1.75.h5\n",
            "Epoch 3/25\n",
            "781/781 [==============================] - 108s 138ms/step - loss: 1.7633 - acc: 0.3740 - val_loss: 1.6388 - val_acc: 0.4406\n",
            "\n",
            "Epoch 00003: val_loss improved from 1.74890 to 1.63880, saving model to model_dropout/model_dropout-03-1.64.h5\n",
            "Epoch 4/25\n",
            "781/781 [==============================] - 105s 134ms/step - loss: 1.6740 - acc: 0.4076 - val_loss: 1.5508 - val_acc: 0.4729\n",
            "\n",
            "Epoch 00004: val_loss improved from 1.63880 to 1.55082, saving model to model_dropout/model_dropout-04-1.55.h5\n",
            "Epoch 5/25\n",
            "781/781 [==============================] - 105s 135ms/step - loss: 1.6023 - acc: 0.4333 - val_loss: 1.4902 - val_acc: 0.4882\n",
            "\n",
            "Epoch 00005: val_loss improved from 1.55082 to 1.49022, saving model to model_dropout/model_dropout-05-1.49.h5\n",
            "Epoch 6/25\n",
            "781/781 [==============================] - 105s 134ms/step - loss: 1.5509 - acc: 0.4515 - val_loss: 1.4328 - val_acc: 0.5103\n",
            "\n",
            "Epoch 00006: val_loss improved from 1.49022 to 1.43277, saving model to model_dropout/model_dropout-06-1.43.h5\n",
            "Epoch 7/25\n",
            "781/781 [==============================] - 105s 135ms/step - loss: 1.5064 - acc: 0.4699 - val_loss: 1.3883 - val_acc: 0.5312\n",
            "\n",
            "Epoch 00007: val_loss improved from 1.43277 to 1.38829, saving model to model_dropout/model_dropout-07-1.39.h5\n",
            "Epoch 8/25\n",
            "781/781 [==============================] - 105s 135ms/step - loss: 1.4665 - acc: 0.4847 - val_loss: 1.3416 - val_acc: 0.5482\n",
            "\n",
            "Epoch 00008: val_loss improved from 1.38829 to 1.34161, saving model to model_dropout/model_dropout-08-1.34.h5\n",
            "Epoch 9/25\n",
            "781/781 [==============================] - 106s 136ms/step - loss: 1.4353 - acc: 0.4962 - val_loss: 1.3099 - val_acc: 0.5625\n",
            "\n",
            "Epoch 00009: val_loss improved from 1.34161 to 1.30985, saving model to model_dropout/model_dropout-09-1.31.h5\n",
            "Epoch 10/25\n",
            "781/781 [==============================] - 106s 135ms/step - loss: 1.4049 - acc: 0.5100 - val_loss: 1.2881 - val_acc: 0.5699\n",
            "\n",
            "Epoch 00010: val_loss improved from 1.30985 to 1.28814, saving model to model_dropout/model_dropout-10-1.29.h5\n",
            "Epoch 11/25\n",
            "781/781 [==============================] - 106s 136ms/step - loss: 1.3781 - acc: 0.5175 - val_loss: 1.2474 - val_acc: 0.5835\n",
            "\n",
            "Epoch 00011: val_loss improved from 1.28814 to 1.24737, saving model to model_dropout/model_dropout-11-1.25.h5\n",
            "Epoch 12/25\n",
            "781/781 [==============================] - 106s 135ms/step - loss: 1.3538 - acc: 0.5257 - val_loss: 1.2181 - val_acc: 0.5950\n",
            "\n",
            "Epoch 00012: val_loss improved from 1.24737 to 1.21810, saving model to model_dropout/model_dropout-12-1.22.h5\n",
            "Epoch 13/25\n",
            "781/781 [==============================] - 106s 136ms/step - loss: 1.3277 - acc: 0.5364 - val_loss: 1.1935 - val_acc: 0.6026\n",
            "\n",
            "Epoch 00013: val_loss improved from 1.21810 to 1.19347, saving model to model_dropout/model_dropout-13-1.19.h5\n",
            "Epoch 14/25\n",
            "781/781 [==============================] - 106s 136ms/step - loss: 1.3044 - acc: 0.5431 - val_loss: 1.1686 - val_acc: 0.6107\n",
            "\n",
            "Epoch 00014: val_loss improved from 1.19347 to 1.16858, saving model to model_dropout/model_dropout-14-1.17.h5\n",
            "Epoch 15/25\n",
            "781/781 [==============================] - 104s 133ms/step - loss: 1.2860 - acc: 0.5503 - val_loss: 1.1492 - val_acc: 0.6203\n",
            "\n",
            "Epoch 00015: val_loss improved from 1.16858 to 1.14916, saving model to model_dropout/model_dropout-15-1.15.h5\n",
            "Epoch 16/25\n",
            "781/781 [==============================] - 105s 134ms/step - loss: 1.2687 - acc: 0.5569 - val_loss: 1.1243 - val_acc: 0.6285\n",
            "\n",
            "Epoch 00016: val_loss improved from 1.14916 to 1.12431, saving model to model_dropout/model_dropout-16-1.12.h5\n",
            "Epoch 17/25\n",
            "781/781 [==============================] - 105s 135ms/step - loss: 1.2472 - acc: 0.5668 - val_loss: 1.1093 - val_acc: 0.6351\n",
            "\n",
            "Epoch 00017: val_loss improved from 1.12431 to 1.10927, saving model to model_dropout/model_dropout-17-1.11.h5\n",
            "Epoch 18/25\n",
            "781/781 [==============================] - 105s 135ms/step - loss: 1.2314 - acc: 0.5698 - val_loss: 1.0860 - val_acc: 0.6392\n",
            "\n",
            "Epoch 00018: val_loss improved from 1.10927 to 1.08600, saving model to model_dropout/model_dropout-18-1.09.h5\n",
            "Epoch 19/25\n",
            "781/781 [==============================] - 105s 134ms/step - loss: 1.2139 - acc: 0.5777 - val_loss: 1.0664 - val_acc: 0.6454\n",
            "\n",
            "Epoch 00019: val_loss improved from 1.08600 to 1.06636, saving model to model_dropout/model_dropout-19-1.07.h5\n",
            "Epoch 20/25\n",
            "781/781 [==============================] - 105s 134ms/step - loss: 1.1998 - acc: 0.5810 - val_loss: 1.0580 - val_acc: 0.6505\n",
            "\n",
            "Epoch 00020: val_loss improved from 1.06636 to 1.05796, saving model to model_dropout/model_dropout-20-1.06.h5\n",
            "Epoch 21/25\n",
            "781/781 [==============================] - 107s 136ms/step - loss: 1.1909 - acc: 0.5871 - val_loss: 1.0327 - val_acc: 0.6605\n",
            "\n",
            "Epoch 00021: val_loss improved from 1.05796 to 1.03273, saving model to model_dropout/model_dropout-21-1.03.h5\n",
            "Epoch 22/25\n",
            "781/781 [==============================] - 104s 133ms/step - loss: 1.1724 - acc: 0.5923 - val_loss: 1.0173 - val_acc: 0.6672\n",
            "\n",
            "Epoch 00022: val_loss improved from 1.03273 to 1.01729, saving model to model_dropout/model_dropout-22-1.02.h5\n",
            "Epoch 23/25\n",
            "781/781 [==============================] - 105s 134ms/step - loss: 1.1567 - acc: 0.5969 - val_loss: 1.0063 - val_acc: 0.6682\n",
            "\n",
            "Epoch 00023: val_loss improved from 1.01729 to 1.00628, saving model to model_dropout/model_dropout-23-1.01.h5\n",
            "Epoch 24/25\n",
            "781/781 [==============================] - 105s 134ms/step - loss: 1.1479 - acc: 0.6003 - val_loss: 0.9887 - val_acc: 0.6757\n",
            "\n",
            "Epoch 00024: val_loss improved from 1.00628 to 0.98871, saving model to model_dropout/model_dropout-24-0.99.h5\n",
            "Epoch 25/25\n",
            "781/781 [==============================] - 105s 134ms/step - loss: 1.1317 - acc: 0.6066 - val_loss: 0.9682 - val_acc: 0.6803\n",
            "\n",
            "Epoch 00025: val_loss improved from 0.98871 to 0.96818, saving model to model_dropout/model_dropout-25-0.97.h5\n"
          ],
          "name": "stdout"
        }
      ]
    },
    {
      "cell_type": "markdown",
      "metadata": {
        "id": "kuc8pAxHNTAN",
        "colab_type": "text"
      },
      "source": [
        "### Task 4.1 Batch Normalization\n",
        "Modify the network by introducing batch normalization layer(s) and train the model. "
      ]
    },
    {
      "cell_type": "code",
      "metadata": {
        "id": "NxmM_HZFNTAN",
        "colab_type": "code",
        "colab": {}
      },
      "source": [
        "model_name = 'model_batch_normalized'\n",
        "if not os.path.exists('./'+model_name):\n",
        "    os.mkdir(model_name)"
      ],
      "execution_count": 0,
      "outputs": []
    },
    {
      "cell_type": "code",
      "metadata": {
        "id": "SVt6AjoxNTAP",
        "colab_type": "code",
        "outputId": "c80dcdc7-a2c3-4e01-a49e-341ca0117061",
        "colab": {
          "base_uri": "https://localhost:8080/",
          "height": 73
        }
      },
      "source": [
        "input_img = Input(shape=(input_shape_cifar), name='input_img')\n",
        "l = Conv2D(1, kernel_size=(3,3), activation='relu')(input_img)\n",
        "l = BatchNormalization()(l)\n",
        "l = Conv2D(64, (3, 3), activation='tanh')(l)\n",
        "l = MaxPooling2D(pool_size=(2, 2))(l)\n",
        "l = Dropout(rate=0.25)(l)\n",
        "# When shifting from Convolutional layers to dense layers, we need to Flatten out the 2D matrices into a 1D array\n",
        "l = Flatten()(l)\n",
        "l = BatchNormalization()(l)\n",
        "l = Dense(128, activation='relu')(l)\n",
        "l = Dropout(rate=0.5)(l)\n",
        "output_class = Dense(num_classes, activation='softmax')(l)\n",
        "model_normalized = Model(inputs=input_img, outputs=output_class)"
      ],
      "execution_count": 0,
      "outputs": [
        {
          "output_type": "stream",
          "text": [
            "WARNING:tensorflow:From /usr/local/lib/python3.6/dist-packages/keras/backend/tensorflow_backend.py:2041: The name tf.nn.fused_batch_norm is deprecated. Please use tf.compat.v1.nn.fused_batch_norm instead.\n",
            "\n"
          ],
          "name": "stdout"
        }
      ]
    },
    {
      "cell_type": "code",
      "metadata": {
        "id": "5bU-ldHBNTAR",
        "colab_type": "code",
        "colab": {}
      },
      "source": [
        "adam = Adam(lr=0.0001)\n",
        "model_normalized.compile(loss='categorical_crossentropy', \n",
        "              optimizer=adam, \n",
        "              metrics=['accuracy'])"
      ],
      "execution_count": 0,
      "outputs": []
    },
    {
      "cell_type": "code",
      "metadata": {
        "id": "AkhC6bGPNTAd",
        "colab_type": "code",
        "outputId": "df9b3c9e-4bf6-44b4-9bbf-de92441e0228",
        "colab": {
          "base_uri": "https://localhost:8080/",
          "height": 557
        }
      },
      "source": [
        "plot_model(model_normalized, model_name+'/'+model_name+'.png')\n",
        "model_normalized.summary()"
      ],
      "execution_count": 0,
      "outputs": [
        {
          "output_type": "stream",
          "text": [
            "Model: \"model_5\"\n",
            "_________________________________________________________________\n",
            "Layer (type)                 Output Shape              Param #   \n",
            "=================================================================\n",
            "input_img (InputLayer)       (None, 32, 32, 3)         0         \n",
            "_________________________________________________________________\n",
            "conv2d_9 (Conv2D)            (None, 30, 30, 1)         28        \n",
            "_________________________________________________________________\n",
            "batch_normalization_1 (Batch (None, 30, 30, 1)         4         \n",
            "_________________________________________________________________\n",
            "conv2d_10 (Conv2D)           (None, 28, 28, 64)        640       \n",
            "_________________________________________________________________\n",
            "max_pooling2d_3 (MaxPooling2 (None, 14, 14, 64)        0         \n",
            "_________________________________________________________________\n",
            "dropout_3 (Dropout)          (None, 14, 14, 64)        0         \n",
            "_________________________________________________________________\n",
            "flatten_5 (Flatten)          (None, 12544)             0         \n",
            "_________________________________________________________________\n",
            "batch_normalization_2 (Batch (None, 12544)             50176     \n",
            "_________________________________________________________________\n",
            "dense_9 (Dense)              (None, 128)               1605760   \n",
            "_________________________________________________________________\n",
            "dropout_4 (Dropout)          (None, 128)               0         \n",
            "_________________________________________________________________\n",
            "dense_10 (Dense)             (None, 10)                1290      \n",
            "=================================================================\n",
            "Total params: 1,657,898\n",
            "Trainable params: 1,632,808\n",
            "Non-trainable params: 25,090\n",
            "_________________________________________________________________\n"
          ],
          "name": "stdout"
        }
      ]
    },
    {
      "cell_type": "code",
      "metadata": {
        "id": "zP2HE_JrNTAf",
        "colab_type": "code",
        "colab": {}
      },
      "source": [
        "# Add the following checkpoints: ModelCheckpoint, CSVLogger\n",
        "checkpoint = ModelCheckpoint(model_name+'/'+model_name+'-{epoch:02d}-{val_loss:.2f}.h5', \n",
        "                             monitor='val_loss', verbose=1, save_best_only=True, mode='auto')\n",
        "csvlogger = CSVLogger(model_name+'/logs.csv', separator=',', append=True)\n",
        "tensorboard = LRTensorBoard(log_dir='./'+model_name, histogram_freq=0, write_graph=True, write_grads=1, \n",
        "                            batch_size=batch_size, write_images=True)\n",
        "\n",
        "callbacks = [checkpoint, tensorboard, csvlogger]"
      ],
      "execution_count": 0,
      "outputs": []
    },
    {
      "cell_type": "code",
      "metadata": {
        "id": "SAA_u2crNTAg",
        "colab_type": "code",
        "colab": {}
      },
      "source": [
        "# Create three generators\n",
        "train_gen = data_generator(train_files , batch_size, preprocessing = preprocessing_norm)\n",
        "val_gen = data_generator(val_files, batch_size, preprocessing = preprocessing_norm)\n",
        "test_gen = data_generator(test_files, batch_size, preprocessing = preprocessing_norm)"
      ],
      "execution_count": 0,
      "outputs": []
    },
    {
      "cell_type": "code",
      "metadata": {
        "scrolled": true,
        "id": "JXH-sW9LNTAh",
        "colab_type": "code",
        "outputId": "42239c75-22c1-4790-dc5c-454fffe8d6a0",
        "colab": {
          "base_uri": "https://localhost:8080/",
          "height": 1000
        }
      },
      "source": [
        "esteps = len(train_files)//batch_size\n",
        "vsteps = len(val_files)//batch_size\n",
        "hist_normalized = model_normalized.fit_generator(train_gen, epochs=epochs, steps_per_epoch=esteps,\n",
        "                           validation_data = val_gen, validation_steps = vsteps,\n",
        "                           callbacks=callbacks, verbose=1)\n",
        "all_histories.append(hist_normalized)"
      ],
      "execution_count": 0,
      "outputs": [
        {
          "output_type": "stream",
          "text": [
            "Epoch 1/25\n",
            "1562/1562 [==============================] - 139s 89ms/step - loss: 2.1950 - acc: 0.3023 - val_loss: 1.4572 - val_acc: 0.5035\n",
            "\n",
            "Epoch 00001: val_loss improved from inf to 1.45715, saving model to model_batch_normalized/model_batch_normalized-01-1.46.h5\n",
            "Epoch 2/25\n",
            "1562/1562 [==============================] - 138s 89ms/step - loss: 1.7002 - acc: 0.4110 - val_loss: 1.2738 - val_acc: 0.5743\n",
            "\n",
            "Epoch 00002: val_loss improved from 1.45715 to 1.27384, saving model to model_batch_normalized/model_batch_normalized-02-1.27.h5\n",
            "Epoch 3/25\n",
            "1562/1562 [==============================] - 139s 89ms/step - loss: 1.5319 - acc: 0.4649 - val_loss: 1.1882 - val_acc: 0.6057\n",
            "\n",
            "Epoch 00003: val_loss improved from 1.27384 to 1.18817, saving model to model_batch_normalized/model_batch_normalized-03-1.19.h5\n",
            "Epoch 4/25\n",
            "1562/1562 [==============================] - 139s 89ms/step - loss: 1.4253 - acc: 0.5026 - val_loss: 1.0687 - val_acc: 0.6484\n",
            "\n",
            "Epoch 00004: val_loss improved from 1.18817 to 1.06874, saving model to model_batch_normalized/model_batch_normalized-04-1.07.h5\n",
            "Epoch 5/25\n",
            "1562/1562 [==============================] - 138s 89ms/step - loss: 1.3393 - acc: 0.5344 - val_loss: 1.0086 - val_acc: 0.6708\n",
            "\n",
            "Epoch 00005: val_loss improved from 1.06874 to 1.00856, saving model to model_batch_normalized/model_batch_normalized-05-1.01.h5\n",
            "Epoch 6/25\n",
            "1562/1562 [==============================] - 138s 89ms/step - loss: 1.2782 - acc: 0.5557 - val_loss: 0.9368 - val_acc: 0.6932\n",
            "\n",
            "Epoch 00006: val_loss improved from 1.00856 to 0.93680, saving model to model_batch_normalized/model_batch_normalized-06-0.94.h5\n",
            "Epoch 7/25\n",
            "1562/1562 [==============================] - 141s 90ms/step - loss: 1.2136 - acc: 0.5755 - val_loss: 0.8969 - val_acc: 0.7102\n",
            "\n",
            "Epoch 00007: val_loss improved from 0.93680 to 0.89687, saving model to model_batch_normalized/model_batch_normalized-07-0.90.h5\n",
            "Epoch 8/25\n",
            "1562/1562 [==============================] - 140s 90ms/step - loss: 1.1694 - acc: 0.5914 - val_loss: 0.8530 - val_acc: 0.7295\n",
            "\n",
            "Epoch 00008: val_loss improved from 0.89687 to 0.85296, saving model to model_batch_normalized/model_batch_normalized-08-0.85.h5\n",
            "Epoch 9/25\n",
            "1562/1562 [==============================] - 139s 89ms/step - loss: 1.1324 - acc: 0.6030 - val_loss: 0.8103 - val_acc: 0.7425\n",
            "\n",
            "Epoch 00009: val_loss improved from 0.85296 to 0.81032, saving model to model_batch_normalized/model_batch_normalized-09-0.81.h5\n",
            "Epoch 10/25\n",
            "1562/1562 [==============================] - 139s 89ms/step - loss: 1.0941 - acc: 0.6168 - val_loss: 0.7784 - val_acc: 0.7518\n",
            "\n",
            "Epoch 00010: val_loss improved from 0.81032 to 0.77835, saving model to model_batch_normalized/model_batch_normalized-10-0.78.h5\n",
            "Epoch 11/25\n",
            "1562/1562 [==============================] - 138s 89ms/step - loss: 1.0550 - acc: 0.6285 - val_loss: 0.7454 - val_acc: 0.7610\n",
            "\n",
            "Epoch 00011: val_loss improved from 0.77835 to 0.74536, saving model to model_batch_normalized/model_batch_normalized-11-0.75.h5\n",
            "Epoch 12/25\n",
            "1562/1562 [==============================] - 138s 88ms/step - loss: 1.0287 - acc: 0.6361 - val_loss: 0.7142 - val_acc: 0.7782\n",
            "\n",
            "Epoch 00012: val_loss improved from 0.74536 to 0.71416, saving model to model_batch_normalized/model_batch_normalized-12-0.71.h5\n",
            "Epoch 13/25\n",
            "1562/1562 [==============================] - 140s 89ms/step - loss: 1.0086 - acc: 0.6436 - val_loss: 0.6846 - val_acc: 0.7894\n",
            "\n",
            "Epoch 00013: val_loss improved from 0.71416 to 0.68457, saving model to model_batch_normalized/model_batch_normalized-13-0.68.h5\n",
            "Epoch 14/25\n",
            "1562/1562 [==============================] - 140s 90ms/step - loss: 0.9836 - acc: 0.6507 - val_loss: 0.6499 - val_acc: 0.8022\n",
            "\n",
            "Epoch 00014: val_loss improved from 0.68457 to 0.64994, saving model to model_batch_normalized/model_batch_normalized-14-0.65.h5\n",
            "Epoch 15/25\n",
            "1562/1562 [==============================] - 138s 88ms/step - loss: 0.9579 - acc: 0.6609 - val_loss: 0.6281 - val_acc: 0.8067\n",
            "\n",
            "Epoch 00015: val_loss improved from 0.64994 to 0.62813, saving model to model_batch_normalized/model_batch_normalized-15-0.63.h5\n",
            "Epoch 16/25\n",
            "1562/1562 [==============================] - 138s 89ms/step - loss: 0.9261 - acc: 0.6707 - val_loss: 0.6140 - val_acc: 0.8098\n",
            "\n",
            "Epoch 00016: val_loss improved from 0.62813 to 0.61400, saving model to model_batch_normalized/model_batch_normalized-16-0.61.h5\n",
            "Epoch 17/25\n",
            "1562/1562 [==============================] - 139s 89ms/step - loss: 0.9086 - acc: 0.6769 - val_loss: 0.5858 - val_acc: 0.8258\n",
            "\n",
            "Epoch 00017: val_loss improved from 0.61400 to 0.58576, saving model to model_batch_normalized/model_batch_normalized-17-0.59.h5\n",
            "Epoch 18/25\n",
            "1562/1562 [==============================] - 139s 89ms/step - loss: 0.8919 - acc: 0.6808 - val_loss: 0.5607 - val_acc: 0.8294\n",
            "\n",
            "Epoch 00018: val_loss improved from 0.58576 to 0.56069, saving model to model_batch_normalized/model_batch_normalized-18-0.56.h5\n",
            "Epoch 19/25\n",
            "1562/1562 [==============================] - 138s 88ms/step - loss: 0.8768 - acc: 0.6858 - val_loss: 0.5481 - val_acc: 0.8385\n",
            "\n",
            "Epoch 00019: val_loss improved from 0.56069 to 0.54808, saving model to model_batch_normalized/model_batch_normalized-19-0.55.h5\n",
            "Epoch 20/25\n",
            "1562/1562 [==============================] - 138s 89ms/step - loss: 0.8586 - acc: 0.6923 - val_loss: 0.5328 - val_acc: 0.8449\n",
            "\n",
            "Epoch 00020: val_loss improved from 0.54808 to 0.53280, saving model to model_batch_normalized/model_batch_normalized-20-0.53.h5\n",
            "Epoch 21/25\n",
            "1562/1562 [==============================] - 138s 88ms/step - loss: 0.8378 - acc: 0.6999 - val_loss: 0.5116 - val_acc: 0.8497\n",
            "\n",
            "Epoch 00021: val_loss improved from 0.53280 to 0.51158, saving model to model_batch_normalized/model_batch_normalized-21-0.51.h5\n",
            "Epoch 22/25\n",
            "1562/1562 [==============================] - 138s 89ms/step - loss: 0.8248 - acc: 0.7052 - val_loss: 0.4926 - val_acc: 0.8575\n",
            "\n",
            "Epoch 00022: val_loss improved from 0.51158 to 0.49263, saving model to model_batch_normalized/model_batch_normalized-22-0.49.h5\n",
            "Epoch 23/25\n",
            "1562/1562 [==============================] - 138s 88ms/step - loss: 0.8047 - acc: 0.7116 - val_loss: 0.4844 - val_acc: 0.8630\n",
            "\n",
            "Epoch 00023: val_loss improved from 0.49263 to 0.48435, saving model to model_batch_normalized/model_batch_normalized-23-0.48.h5\n",
            "Epoch 24/25\n",
            "1562/1562 [==============================] - 138s 88ms/step - loss: 0.7941 - acc: 0.7143 - val_loss: 0.4703 - val_acc: 0.8638\n",
            "\n",
            "Epoch 00024: val_loss improved from 0.48435 to 0.47034, saving model to model_batch_normalized/model_batch_normalized-24-0.47.h5\n",
            "Epoch 25/25\n",
            "1562/1562 [==============================] - 138s 88ms/step - loss: 0.7783 - acc: 0.7187 - val_loss: 0.4526 - val_acc: 0.8701\n",
            "\n",
            "Epoch 00025: val_loss improved from 0.47034 to 0.45262, saving model to model_batch_normalized/model_batch_normalized-25-0.45.h5\n"
          ],
          "name": "stdout"
        }
      ]
    },
    {
      "cell_type": "markdown",
      "metadata": {
        "id": "B1Tp6li7NTAj",
        "colab_type": "text"
      },
      "source": [
        "### Task 5.1 Comparison of all models\n",
        "In this task you need to plot the loss and accuracy for all models and __discuss__ which model has better performance and why do you think so."
      ]
    },
    {
      "cell_type": "code",
      "metadata": {
        "id": "97k0hYryNTAj",
        "colab_type": "code",
        "colab": {}
      },
      "source": [
        "# Plot accuracy of all models\n",
        "def plotHistory(histories, names, metric):\n",
        "    plt.clf() \n",
        "    x_axis = list(range(epochs))\n",
        "    for hist, name in zip(histories, names):\n",
        "        plt.plot(x_axis, hist.history[metric], label=metric+'_'+name)\n",
        "        plt.scatter(x_axis, hist.history[metric])\n",
        "    plt.legend()\n",
        "    plt.title(metric)\n",
        "    plt.show()"
      ],
      "execution_count": 0,
      "outputs": []
    },
    {
      "cell_type": "code",
      "metadata": {
        "id": "90IGejK3NTAk",
        "colab_type": "code",
        "outputId": "fe06f6f8-627e-4a1c-ff29-ed73d5bfc5a8",
        "colab": {
          "base_uri": "https://localhost:8080/",
          "height": 362
        }
      },
      "source": [
        "# Plot histories of all models\n",
        "mnames = ['model_initial','model_preprocessed','model_pooled','model_dropout','model_normalized']\n",
        "plotHistory(all_histories, mnames ,'loss')"
      ],
      "execution_count": 0,
      "outputs": [
        {
          "output_type": "display_data",
          "data": {
            "image/png": "[encoded data removed]",
            "text/plain": [
              "<Figure size 576x396 with 1 Axes>"
            ]
          },
          "metadata": {
            "tags": []
          }
        }
      ]
    },
    {
      "cell_type": "code",
      "metadata": {
        "colab_type": "code",
        "outputId": "3efe7ac4-e2b8-4e9b-d70c-1c28b76d36ab",
        "id": "HuFBvgEeWTXC",
        "colab": {
          "base_uri": "https://localhost:8080/",
          "height": 362
        }
      },
      "source": [
        "# Plot histories of all models\n",
        "mnames = ['model_initial','model_preprocessed','model_pooled','model_dropout','model_normalized']\n",
        "plotHistory(all_histories, mnames ,'acc')"
      ],
      "execution_count": 0,
      "outputs": [
        {
          "output_type": "display_data",
          "data": {
            "image/png": "[encoded data removed]",
            "text/plain": [
              "<Figure size 576x396 with 1 Axes>"
            ]
          },
          "metadata": {
            "tags": []
          }
        }
      ]
    },
    {
      "cell_type": "code",
      "metadata": {
        "id": "kEBH3tRIn-zd",
        "colab_type": "code",
        "colab": {}
      },
      "source": [
        "#ANALYSIS\n",
        "#the normalized model has the best performance. This could be because batch normalization \n",
        "#regularizes the model. Regularization reduces overfitting which improves accuracy by generalising the model.\n",
        "# Preprocessing using normalization significantly increases accuracy."
      ],
      "execution_count": 0,
      "outputs": []
    },
    {
      "cell_type": "markdown",
      "metadata": {
        "id": "YtEIhrLJNTAl",
        "colab_type": "text"
      },
      "source": [
        "#### Tensorboard \n",
        "We will be covering Tensorboard in Friday's tutorial. You can complete this part after the tutorial (21st Feb 2020)"
      ]
    },
    {
      "cell_type": "code",
      "metadata": {
        "id": "nyuu6Ll0hx5t",
        "colab_type": "code",
        "colab": {
          "base_uri": "https://localhost:8080/",
          "height": 53
        },
        "outputId": "d324d4ba-c7ff-43cf-b811-bb43f4bb8680"
      },
      "source": [
        "!tensorboard --logdir='/content/drive/My Drive/base_model' --host='8da5507721cb'"
      ],
      "execution_count": 70,
      "outputs": [
        {
          "output_type": "stream",
          "text": [
            "TensorBoard 1.15.0 at http://8da5507721cb:6006/ (Press CTRL+C to quit)\n",
            "^C\n"
          ],
          "name": "stdout"
        }
      ]
    },
    {
      "cell_type": "markdown",
      "metadata": {
        "id": "55NsgEpCNTAm",
        "colab_type": "text"
      },
      "source": [
        "You can run TensorBoard using the following command\n",
        "\n",
        "> Indented block\n",
        "\n",
        "\n",
        "```tensorboard --logdir=path/to/log-directory\n",
        "```\n",
        "Now for logs of all above trained models, take snapshot of the _loss_ and _accuracy_ plots and save in the directory where this notebook is. To show that saved plot here in notebook use following command in _markdown_ cell. \n",
        "<br> __![](path_to_image)__"
      ]
    },
    {
      "cell_type": "markdown",
      "metadata": {
        "id": "aRwFSfW-NTAm",
        "colab_type": "text"
      },
      "source": [
        "**Add cells to include loss plots**"
      ]
    },
    {
      "cell_type": "markdown",
      "metadata": {
        "id": "GfMNKYrhNTAq",
        "colab_type": "text"
      },
      "source": [
        "##### Add your analysis here"
      ]
    },
    {
      "cell_type": "markdown",
      "metadata": {
        "id": "BjUtjIZ6NTA8",
        "colab_type": "text"
      },
      "source": [
        ""
      ]
    },
    {
      "cell_type": "markdown",
      "metadata": {
        "id": "HIKyeZAZNTA8",
        "colab_type": "text"
      },
      "source": [
        "### Task 5.2 Visualize Activations\n",
        "We will be covering this in Friday's tutorial. You can complete this part after the tutorial (21st Feb 2020). In this task, you are required to visualize the activations (outputs) of both the convolution layers of a model."
      ]
    },
    {
      "cell_type": "code",
      "metadata": {
        "id": "SRhjr7GPNTA9",
        "colab_type": "code",
        "colab": {
          "base_uri": "https://localhost:8080/",
          "height": 365
        },
        "outputId": "404f2844-ec52-45e8-fd52-8f18331bbe41"
      },
      "source": [
        "# Load any image here\n",
        "test_image = cv2.imread(test_files[2])\n",
        "plt.imshow(test_image)"
      ],
      "execution_count": 76,
      "outputs": [
        {
          "output_type": "execute_result",
          "data": {
            "text/plain": [
              "<matplotlib.image.AxesImage at 0x7f62c6376518>"
            ]
          },
          "metadata": {
            "tags": []
          },
          "execution_count": 76
        },
        {
          "output_type": "display_data",
          "data": {
            "image/png": "[encoded data removed]",
            "text/plain": [
              "<Figure size 576x396 with 1 Axes>"
            ]
          },
          "metadata": {
            "tags": []
          }
        }
      ]
    },
    {
      "cell_type": "code",
      "metadata": {
        "id": "ffgoH-SCNTA-",
        "colab_type": "code",
        "colab": {
          "base_uri": "https://localhost:8080/",
          "height": 369
        },
        "outputId": "b97b5046-4e04-4467-ac92-c51d01c421b0"
      },
      "source": [
        "plt.gca().grid(False);\n",
        "test_reshaped = test_image.reshape((1,32,32,3))\n",
        "model_preprocessed.predict(test_reshaped).argmax(axis=1)\n",
        "# Get a prediction from ANY ONE of your models and output its label"
      ],
      "execution_count": 83,
      "outputs": [
        {
          "output_type": "execute_result",
          "data": {
            "text/plain": [
              "array([9])"
            ]
          },
          "metadata": {
            "tags": []
          },
          "execution_count": 83
        },
        {
          "output_type": "display_data",
          "data": {
            "image/png": "[encoded data removed]",
            "text/plain": [
              "<Figure size 576x396 with 1 Axes>"
            ]
          },
          "metadata": {
            "tags": []
          }
        }
      ]
    },
    {
      "cell_type": "code",
      "metadata": {
        "id": "V3r4PB3QNTBA",
        "colab_type": "code",
        "colab": {}
      },
      "source": [
        "# Create a Model from the Input layer to a Convolutional Layer\n",
        "new_model = Model(inputs=model_preprocessed.get_layer('input_img').input,\n",
        "                  outputs=model_preprocessed.get_layer('conv2d_3').output)"
      ],
      "execution_count": 0,
      "outputs": []
    },
    {
      "cell_type": "code",
      "metadata": {
        "id": "o1foUx-UNTBB",
        "colab_type": "code",
        "colab": {
          "base_uri": "https://localhost:8080/",
          "height": 35
        },
        "outputId": "2f02e931-f49d-402d-9e47-0c8891e28b61"
      },
      "source": [
        "# Get a prediction for your chosen image using this model\n",
        "predicted_activations = new_model.predict(test_reshaped)\n",
        "predicted_activations.shape"
      ],
      "execution_count": 137,
      "outputs": [
        {
          "output_type": "execute_result",
          "data": {
            "text/plain": [
              "(1, 30, 30, 1)"
            ]
          },
          "metadata": {
            "tags": []
          },
          "execution_count": 137
        }
      ]
    },
    {
      "cell_type": "code",
      "metadata": {
        "id": "2Z8I8hvhNTBC",
        "colab_type": "code",
        "colab": {
          "base_uri": "https://localhost:8080/",
          "height": 1000
        },
        "outputId": "78a41bdd-7519-4040-9ee8-923835aeb399"
      },
      "source": [
        "# Use your predictions to visualise the activations\n",
        "fig, axes = plt.subplots(nrows=8, ncols=4, figsize=(15,20), dpi=80)\n",
        "\n",
        "for i,ax in enumerate(axes.flatten()):\n",
        "    ax.imshow(predicted_activations[0,:,:,i]);\n",
        "    ax.grid(False);\n",
        "    ax.axis('off');"
      ],
      "execution_count": 141,
      "outputs": [
        {
          "output_type": "error",
          "ename": "IndexError",
          "evalue": "ignored",
          "traceback": [
            "\u001b[0;31m---------------------------------------------------------------------------\u001b[0m",
            "\u001b[0;31mIndexError\u001b[0m                                Traceback (most recent call last)",
            "\u001b[0;32m<ipython-input-141-8be57010140e>\u001b[0m in \u001b[0;36m<module>\u001b[0;34m()\u001b[0m\n\u001b[1;32m      2\u001b[0m \u001b[0;34m\u001b[0m\u001b[0m\n\u001b[1;32m      3\u001b[0m \u001b[0;32mfor\u001b[0m \u001b[0mi\u001b[0m\u001b[0;34m,\u001b[0m\u001b[0max\u001b[0m \u001b[0;32min\u001b[0m \u001b[0menumerate\u001b[0m\u001b[0;34m(\u001b[0m\u001b[0maxes\u001b[0m\u001b[0;34m.\u001b[0m\u001b[0mflatten\u001b[0m\u001b[0;34m(\u001b[0m\u001b[0;34m)\u001b[0m\u001b[0;34m)\u001b[0m\u001b[0;34m:\u001b[0m\u001b[0;34m\u001b[0m\u001b[0;34m\u001b[0m\u001b[0m\n\u001b[0;32m----> 4\u001b[0;31m     \u001b[0max\u001b[0m\u001b[0;34m.\u001b[0m\u001b[0mimshow\u001b[0m\u001b[0;34m(\u001b[0m\u001b[0mpredicted_activations\u001b[0m\u001b[0;34m[\u001b[0m\u001b[0;36m0\u001b[0m\u001b[0;34m,\u001b[0m\u001b[0;34m:\u001b[0m\u001b[0;34m,\u001b[0m\u001b[0;34m:\u001b[0m\u001b[0;34m,\u001b[0m\u001b[0mi\u001b[0m\u001b[0;34m]\u001b[0m\u001b[0;34m)\u001b[0m\u001b[0;34m;\u001b[0m\u001b[0;34m\u001b[0m\u001b[0;34m\u001b[0m\u001b[0m\n\u001b[0m\u001b[1;32m      5\u001b[0m     \u001b[0max\u001b[0m\u001b[0;34m.\u001b[0m\u001b[0mgrid\u001b[0m\u001b[0;34m(\u001b[0m\u001b[0;32mFalse\u001b[0m\u001b[0;34m)\u001b[0m\u001b[0;34m;\u001b[0m\u001b[0;34m\u001b[0m\u001b[0;34m\u001b[0m\u001b[0m\n\u001b[1;32m      6\u001b[0m     \u001b[0max\u001b[0m\u001b[0;34m.\u001b[0m\u001b[0maxis\u001b[0m\u001b[0;34m(\u001b[0m\u001b[0;34m'off'\u001b[0m\u001b[0;34m)\u001b[0m\u001b[0;34m;\u001b[0m\u001b[0;34m\u001b[0m\u001b[0;34m\u001b[0m\u001b[0m\n",
            "\u001b[0;31mIndexError\u001b[0m: index 1 is out of bounds for axis 3 with size 1"
          ]
        },
        {
          "output_type": "display_data",
          "data": {
            "image/png": "[encoded data removed]",
            "text/plain": [
              "<Figure size 1200x1600 with 32 Axes>"
            ]
          },
          "metadata": {
            "tags": []
          }
        }
      ]
    },
    {
      "cell_type": "code",
      "metadata": {
        "id": "AbxIusJFNTBE",
        "colab_type": "code",
        "colab": {}
      },
      "source": [
        "# Create another model to visualize activations from ANOTHER convolutional layer"
      ],
      "execution_count": 0,
      "outputs": []
    },
    {
      "cell_type": "code",
      "metadata": {
        "id": "avwIvyDTNTBG",
        "colab_type": "code",
        "colab": {}
      },
      "source": [
        "# You may rename this variable\n",
        "second_predicted_activations = None"
      ],
      "execution_count": 0,
      "outputs": []
    },
    {
      "cell_type": "code",
      "metadata": {
        "id": "nTGiwnD3NTBH",
        "colab_type": "code",
        "colab": {}
      },
      "source": [
        "fig, axes = plt.subplots(nrows=4, ncols=4, figsize=(15,15), dpi=80)\n",
        "for i,ax in enumerate(axes.flatten()):\n",
        "    ax.imshow(second_predicted_activations[0,:,:,i]);\n",
        "    ax.grid(False);\n",
        "    ax.axis('off');"
      ],
      "execution_count": 0,
      "outputs": []
    },
    {
      "cell_type": "markdown",
      "metadata": {
        "id": "wLH32Nd6NTBJ",
        "colab_type": "text"
      },
      "source": [
        "Q) What features from your chosen image do you think your model has been able to learn? In terms of filters (weights), what goes on when we add more convolutional layers in our models?"
      ]
    },
    {
      "cell_type": "markdown",
      "metadata": {
        "heading_collapsed": true,
        "id": "U7fshg_mNTBK",
        "colab_type": "text"
      },
      "source": [
        "### Task 6.1  Effect of learning rate\n",
        "Take the best selected model in __Task 5.1__ and change its learning rate to: \n",
        "- 6.1.1 any value between 5 and 1.\n",
        "- 6.1.2 learning rate = any value between 0.6 and  0.1 \n",
        "- 6.1.3 learning rate = 0.00001\n",
        "\n",
        "and train these three models to compare the effect learning rate."
      ]
    },
    {
      "cell_type": "code",
      "metadata": {
        "hidden": true,
        "id": "9R6CA0GtNTBM",
        "colab_type": "code",
        "colab": {}
      },
      "source": [
        "# Use code provided in previous tasks\n",
        "6.1.1\n"
      ],
      "execution_count": 0,
      "outputs": []
    },
    {
      "cell_type": "code",
      "metadata": {
        "colab_type": "code",
        "id": "uYGZpwxWvGXg",
        "colab": {}
      },
      "source": [
        "model_name = 'model_batch_normalized2'\n",
        "if not os.path.exists('./'+model_name):\n",
        "    os.mkdir(model_name)"
      ],
      "execution_count": 0,
      "outputs": []
    },
    {
      "cell_type": "code",
      "metadata": {
        "colab_type": "code",
        "id": "V-Hvmr1Evk6r",
        "colab": {}
      },
      "source": [
        "input_img = Input(shape=(input_shape_cifar), name='input_img')\n",
        "l = Conv2D(1, kernel_size=(3,3), activation='relu')(input_img)\n",
        "l = BatchNormalization()(l)\n",
        "l = Conv2D(64, (3, 3), activation='tanh')(l)\n",
        "l = MaxPooling2D(pool_size=(2, 2))(l)\n",
        "l = Dropout(rate=0.25)(l)\n",
        "# When shifting from Convolutional layers to dense layers, we need to Flatten out the 2D matrices into a 1D array\n",
        "l = Flatten()(l)\n",
        "l = BatchNormalization()(l)\n",
        "l = Dense(128, activation='relu')(l)\n",
        "l = Dropout(rate=0.5)(l)\n",
        "output_class = Dense(num_classes, activation='softmax')(l)\n",
        "model_normalized2 = Model(inputs=input_img, outputs=output_class)"
      ],
      "execution_count": 0,
      "outputs": []
    },
    {
      "cell_type": "code",
      "metadata": {
        "colab_type": "code",
        "id": "kKoBjv33vu9j",
        "colab": {}
      },
      "source": [
        "adam = Adam(lr=3)\n",
        "model_normalized2.compile(loss='categorical_crossentropy', \n",
        "              optimizer=adam, \n",
        "              metrics=['accuracy'])"
      ],
      "execution_count": 0,
      "outputs": []
    },
    {
      "cell_type": "code",
      "metadata": {
        "colab_type": "code",
        "id": "cxrgivb6v7wv",
        "colab": {}
      },
      "source": [
        "# Add the following checkpoints: ModelCheckpoint, CSVLogger\n",
        "checkpoint = ModelCheckpoint(model_name+'/'+model_name+'-{epoch:02d}-{val_loss:.2f}.h5', \n",
        "                             monitor='val_loss', verbose=1, save_best_only=True, mode='auto')\n",
        "csvlogger = CSVLogger(model_name+'/logs.csv', separator=',', append=True)\n",
        "tensorboard = LRTensorBoard(log_dir='./'+model_name, histogram_freq=0, write_graph=True, write_grads=1, \n",
        "                            batch_size=batch_size, write_images=True)\n",
        "\n",
        "callbacks = [checkpoint, tensorboard, csvlogger]"
      ],
      "execution_count": 0,
      "outputs": []
    },
    {
      "cell_type": "code",
      "metadata": {
        "colab_type": "code",
        "id": "zMPMGsIJwBSB",
        "colab": {}
      },
      "source": [
        "# Create three generators\n",
        "train_gen = data_generator(train_files , batch_size, preprocessing = preprocessing_norm)\n",
        "val_gen = data_generator(val_files, batch_size, preprocessing = preprocessing_norm)\n",
        "test_gen = data_generator(test_files, batch_size, preprocessing = preprocessing_norm)"
      ],
      "execution_count": 0,
      "outputs": []
    },
    {
      "cell_type": "code",
      "metadata": {
        "scrolled": true,
        "colab_type": "code",
        "outputId": "9549a783-7fa4-4887-d6fb-5761c3438f4d",
        "id": "ZmC5z8eMwFmn",
        "colab": {
          "base_uri": "https://localhost:8080/",
          "height": 1000
        }
      },
      "source": [
        "esteps = len(train_files)//batch_size\n",
        "vsteps = len(val_files)//batch_size\n",
        "hist_normalized2 = model_normalized2.fit_generator(train_gen, epochs=epochs, steps_per_epoch=esteps,\n",
        "                           validation_data = val_gen, validation_steps = vsteps,\n",
        "                           callbacks=callbacks, verbose=1)\n",
        "#all_histories.append(hist_normalized)"
      ],
      "execution_count": 107,
      "outputs": [
        {
          "output_type": "stream",
          "text": [
            "Epoch 1/25\n",
            "1562/1562 [==============================] - 142s 91ms/step - loss: 0.7624 - acc: 0.7254 - val_loss: 0.4420 - val_acc: 0.8714\n",
            "\n",
            "Epoch 00001: val_loss improved from inf to 0.44199, saving model to model_batch_normalized2/model_batch_normalized2-01-0.44.h5\n",
            "Epoch 2/25\n",
            "1562/1562 [==============================] - 142s 91ms/step - loss: 0.7567 - acc: 0.7286 - val_loss: 0.4251 - val_acc: 0.8842\n",
            "\n",
            "Epoch 00002: val_loss improved from 0.44199 to 0.42507, saving model to model_batch_normalized2/model_batch_normalized2-02-0.43.h5\n",
            "Epoch 3/25\n",
            "1562/1562 [==============================] - 142s 91ms/step - loss: 0.7386 - acc: 0.7346 - val_loss: 0.4116 - val_acc: 0.8830\n",
            "\n",
            "Epoch 00003: val_loss improved from 0.42507 to 0.41164, saving model to model_batch_normalized2/model_batch_normalized2-03-0.41.h5\n",
            "Epoch 4/25\n",
            "1562/1562 [==============================] - 142s 91ms/step - loss: 0.7347 - acc: 0.7341 - val_loss: 0.4071 - val_acc: 0.8890\n",
            "\n",
            "Epoch 00004: val_loss improved from 0.41164 to 0.40711, saving model to model_batch_normalized2/model_batch_normalized2-04-0.41.h5\n",
            "Epoch 5/25\n",
            "1562/1562 [==============================] - 141s 91ms/step - loss: 0.7231 - acc: 0.7358 - val_loss: 0.3903 - val_acc: 0.8897\n",
            "\n",
            "Epoch 00005: val_loss improved from 0.40711 to 0.39026, saving model to model_batch_normalized2/model_batch_normalized2-05-0.39.h5\n",
            "Epoch 6/25\n",
            "1562/1562 [==============================] - 142s 91ms/step - loss: 0.7108 - acc: 0.7426 - val_loss: 0.3892 - val_acc: 0.8923\n",
            "\n",
            "Epoch 00006: val_loss improved from 0.39026 to 0.38918, saving model to model_batch_normalized2/model_batch_normalized2-06-0.39.h5\n",
            "Epoch 7/25\n",
            "1562/1562 [==============================] - 141s 90ms/step - loss: 0.6974 - acc: 0.7476 - val_loss: 0.3719 - val_acc: 0.8992\n",
            "\n",
            "Epoch 00007: val_loss improved from 0.38918 to 0.37191, saving model to model_batch_normalized2/model_batch_normalized2-07-0.37.h5\n",
            "Epoch 8/25\n",
            "1562/1562 [==============================] - 141s 90ms/step - loss: 0.6981 - acc: 0.7481 - val_loss: 0.3696 - val_acc: 0.8987\n",
            "\n",
            "Epoch 00008: val_loss improved from 0.37191 to 0.36958, saving model to model_batch_normalized2/model_batch_normalized2-08-0.37.h5\n",
            "Epoch 9/25\n",
            "1562/1562 [==============================] - 140s 89ms/step - loss: 0.6847 - acc: 0.7518 - val_loss: 0.3567 - val_acc: 0.9048\n",
            "\n",
            "Epoch 00009: val_loss improved from 0.36958 to 0.35667, saving model to model_batch_normalized2/model_batch_normalized2-09-0.36.h5\n",
            "Epoch 10/25\n",
            "1562/1562 [==============================] - 142s 91ms/step - loss: 0.6779 - acc: 0.7550 - val_loss: 0.3535 - val_acc: 0.9081\n",
            "\n",
            "Epoch 00010: val_loss improved from 0.35667 to 0.35348, saving model to model_batch_normalized2/model_batch_normalized2-10-0.35.h5\n",
            "Epoch 11/25\n",
            "1562/1562 [==============================] - 143s 92ms/step - loss: 0.6599 - acc: 0.7588 - val_loss: 0.3387 - val_acc: 0.9102\n",
            "\n",
            "Epoch 00011: val_loss improved from 0.35348 to 0.33868, saving model to model_batch_normalized2/model_batch_normalized2-11-0.34.h5\n",
            "Epoch 12/25\n",
            "1562/1562 [==============================] - 143s 92ms/step - loss: 0.6661 - acc: 0.7586 - val_loss: 0.3345 - val_acc: 0.9111\n",
            "\n",
            "Epoch 00012: val_loss improved from 0.33868 to 0.33447, saving model to model_batch_normalized2/model_batch_normalized2-12-0.33.h5\n",
            "Epoch 13/25\n",
            "1562/1562 [==============================] - 144s 92ms/step - loss: 0.6590 - acc: 0.7601 - val_loss: 0.3235 - val_acc: 0.9183\n",
            "\n",
            "Epoch 00013: val_loss improved from 0.33447 to 0.32351, saving model to model_batch_normalized2/model_batch_normalized2-13-0.32.h5\n",
            "Epoch 14/25\n",
            "1562/1562 [==============================] - 143s 92ms/step - loss: 0.6482 - acc: 0.7654 - val_loss: 0.3221 - val_acc: 0.9148\n",
            "\n",
            "Epoch 00014: val_loss improved from 0.32351 to 0.32214, saving model to model_batch_normalized2/model_batch_normalized2-14-0.32.h5\n",
            "Epoch 15/25\n",
            "1562/1562 [==============================] - 143s 92ms/step - loss: 0.6367 - acc: 0.7695 - val_loss: 0.3179 - val_acc: 0.9177\n",
            "\n",
            "Epoch 00015: val_loss improved from 0.32214 to 0.31789, saving model to model_batch_normalized2/model_batch_normalized2-15-0.32.h5\n",
            "Epoch 16/25\n",
            "1562/1562 [==============================] - 143s 91ms/step - loss: 0.6332 - acc: 0.7683 - val_loss: 0.3073 - val_acc: 0.9221\n",
            "\n",
            "Epoch 00016: val_loss improved from 0.31789 to 0.30732, saving model to model_batch_normalized2/model_batch_normalized2-16-0.31.h5\n",
            "Epoch 17/25\n",
            "1562/1562 [==============================] - 143s 92ms/step - loss: 0.6279 - acc: 0.7723 - val_loss: 0.3037 - val_acc: 0.9199\n",
            "\n",
            "Epoch 00017: val_loss improved from 0.30732 to 0.30371, saving model to model_batch_normalized2/model_batch_normalized2-17-0.30.h5\n",
            "Epoch 18/25\n",
            "1562/1562 [==============================] - 142s 91ms/step - loss: 0.6213 - acc: 0.7731 - val_loss: 0.2933 - val_acc: 0.9213\n",
            "\n",
            "Epoch 00018: val_loss improved from 0.30371 to 0.29335, saving model to model_batch_normalized2/model_batch_normalized2-18-0.29.h5\n",
            "Epoch 19/25\n",
            "1562/1562 [==============================] - 142s 91ms/step - loss: 0.6140 - acc: 0.7771 - val_loss: 0.2901 - val_acc: 0.9290\n",
            "\n",
            "Epoch 00019: val_loss improved from 0.29335 to 0.29008, saving model to model_batch_normalized2/model_batch_normalized2-19-0.29.h5\n",
            "Epoch 20/25\n",
            "1562/1562 [==============================] - 143s 92ms/step - loss: 0.6052 - acc: 0.7793 - val_loss: 0.2830 - val_acc: 0.9273\n",
            "\n",
            "Epoch 00020: val_loss improved from 0.29008 to 0.28297, saving model to model_batch_normalized2/model_batch_normalized2-20-0.28.h5\n",
            "Epoch 21/25\n",
            "1562/1562 [==============================] - 143s 91ms/step - loss: 0.6003 - acc: 0.7785 - val_loss: 0.2797 - val_acc: 0.9305\n",
            "\n",
            "Epoch 00021: val_loss improved from 0.28297 to 0.27967, saving model to model_batch_normalized2/model_batch_normalized2-21-0.28.h5\n",
            "Epoch 22/25\n",
            "1562/1562 [==============================] - 143s 91ms/step - loss: 0.5993 - acc: 0.7789 - val_loss: 0.2745 - val_acc: 0.9305\n",
            "\n",
            "Epoch 00022: val_loss improved from 0.27967 to 0.27450, saving model to model_batch_normalized2/model_batch_normalized2-22-0.27.h5\n",
            "Epoch 23/25\n",
            "1562/1562 [==============================] - 142s 91ms/step - loss: 0.5902 - acc: 0.7845 - val_loss: 0.2685 - val_acc: 0.9357\n",
            "\n",
            "Epoch 00023: val_loss improved from 0.27450 to 0.26845, saving model to model_batch_normalized2/model_batch_normalized2-23-0.27.h5\n",
            "Epoch 24/25\n",
            "1562/1562 [==============================] - 139s 89ms/step - loss: 0.5942 - acc: 0.7826 - val_loss: 0.2627 - val_acc: 0.9349\n",
            "\n",
            "Epoch 00024: val_loss improved from 0.26845 to 0.26268, saving model to model_batch_normalized2/model_batch_normalized2-24-0.26.h5\n",
            "Epoch 25/25\n",
            "1562/1562 [==============================] - 138s 88ms/step - loss: 0.5836 - acc: 0.7854 - val_loss: 0.2601 - val_acc: 0.9375\n",
            "\n",
            "Epoch 00025: val_loss improved from 0.26268 to 0.26007, saving model to model_batch_normalized2/model_batch_normalized2-25-0.26.h5\n"
          ],
          "name": "stdout"
        }
      ]
    },
    {
      "cell_type": "code",
      "metadata": {
        "colab_type": "code",
        "id": "rnueDWw4GMYf",
        "colab": {}
      },
      "source": [
        "model_name = 'model_batch_normalized4'\n",
        "if not os.path.exists('./'+model_name):\n",
        "    os.mkdir(model_name)"
      ],
      "execution_count": 0,
      "outputs": []
    },
    {
      "cell_type": "code",
      "metadata": {
        "colab_type": "code",
        "id": "w7zyqnl0GMYk",
        "colab": {}
      },
      "source": [
        "input_img = Input(shape=(input_shape_cifar), name='input_img')\n",
        "l = Conv2D(1, kernel_size=(3,3), activation='relu')(input_img)\n",
        "l = BatchNormalization()(l)\n",
        "l = Conv2D(64, (3, 3), activation='tanh')(l)\n",
        "l = MaxPooling2D(pool_size=(2, 2))(l)\n",
        "l = Dropout(rate=0.25)(l)\n",
        "# When shifting from Convolutional layers to dense layers, we need to Flatten out the 2D matrices into a 1D array\n",
        "l = Flatten()(l)\n",
        "l = BatchNormalization()(l)\n",
        "l = Dense(128, activation='relu')(l)\n",
        "l = Dropout(rate=0.5)(l)\n",
        "output_class = Dense(num_classes, activation='softmax')(l)\n",
        "model_normalized4 = Model(inputs=input_img, outputs=output_class)"
      ],
      "execution_count": 0,
      "outputs": []
    },
    {
      "cell_type": "code",
      "metadata": {
        "colab_type": "code",
        "id": "J_XQRg9HGMYl",
        "colab": {}
      },
      "source": [
        "adam = Adam(lr=0.00001)\n",
        "model_normalized4.compile(loss='categorical_crossentropy', \n",
        "              optimizer=adam, \n",
        "              metrics=['accuracy'])"
      ],
      "execution_count": 0,
      "outputs": []
    },
    {
      "cell_type": "code",
      "metadata": {
        "colab_type": "code",
        "id": "htbECsOSGMYp",
        "colab": {}
      },
      "source": [
        "# Add the following checkpoints: ModelCheckpoint, CSVLogger\n",
        "checkpoint = ModelCheckpoint(model_name+'/'+model_name+'-{epoch:02d}-{val_loss:.2f}.h5', \n",
        "                             monitor='val_loss', verbose=1, save_best_only=True, mode='auto')\n",
        "csvlogger = CSVLogger(model_name+'/logs.csv', separator=',', append=True)\n",
        "tensorboard = LRTensorBoard(log_dir='./'+model_name, histogram_freq=0, write_graph=True, write_grads=1, \n",
        "                            batch_size=batch_size, write_images=True)\n",
        "\n",
        "callbacks = [checkpoint, tensorboard, csvlogger]"
      ],
      "execution_count": 0,
      "outputs": []
    },
    {
      "cell_type": "code",
      "metadata": {
        "colab_type": "code",
        "id": "loyp3dxnGMYr",
        "colab": {}
      },
      "source": [
        "# Create three generators\n",
        "train_gen = data_generator(train_files , batch_size, preprocessing = preprocessing_norm)\n",
        "val_gen = data_generator(val_files, batch_size, preprocessing = preprocessing_norm)\n",
        "test_gen = data_generator(test_files, batch_size, preprocessing = preprocessing_norm)"
      ],
      "execution_count": 0,
      "outputs": []
    },
    {
      "cell_type": "code",
      "metadata": {
        "scrolled": true,
        "colab_type": "code",
        "outputId": "29ea6a1f-7abf-4d6e-ba74-0768c028b866",
        "id": "rD1JSlwvGMYt",
        "colab": {
          "base_uri": "https://localhost:8080/",
          "height": 1000
        }
      },
      "source": [
        "esteps = len(train_files)//batch_size\n",
        "vsteps = len(val_files)//batch_size\n",
        "hist_normalized4 = model_normalized4.fit_generator(train_gen, epochs=epochs, steps_per_epoch=esteps,\n",
        "                           validation_data = val_gen, validation_steps = vsteps,\n",
        "                           callbacks=callbacks, verbose=1)\n",
        "#all_histories.append(hist_normalized)"
      ],
      "execution_count": 0,
      "outputs": [
        {
          "output_type": "stream",
          "text": [
            "Epoch 1/25\n",
            "1562/1562 [==============================] - 142s 91ms/step - loss: 2.5869 - acc: 0.1960 - val_loss: 1.8428 - val_acc: 0.3482\n",
            "\n",
            "Epoch 00001: val_loss improved from inf to 1.84282, saving model to model_batch_normalized4/model_batch_normalized4-01-1.84.h5\n",
            "Epoch 2/25\n",
            "1562/1562 [==============================] - 143s 91ms/step - loss: 2.2755 - acc: 0.2568 - val_loss: 1.7294 - val_acc: 0.3980\n",
            "\n",
            "Epoch 00002: val_loss improved from 1.84282 to 1.72941, saving model to model_batch_normalized4/model_batch_normalized4-02-1.73.h5\n",
            "Epoch 3/25\n",
            "1562/1562 [==============================] - 145s 93ms/step - loss: 2.1363 - acc: 0.2868 - val_loss: 1.6464 - val_acc: 0.4270\n",
            "\n",
            "Epoch 00003: val_loss improved from 1.72941 to 1.64644, saving model to model_batch_normalized4/model_batch_normalized4-03-1.65.h5\n",
            "Epoch 4/25\n",
            "1562/1562 [==============================] - 145s 93ms/step - loss: 2.0372 - acc: 0.3116 - val_loss: 1.5889 - val_acc: 0.4552\n",
            "\n",
            "Epoch 00004: val_loss improved from 1.64644 to 1.58894, saving model to model_batch_normalized4/model_batch_normalized4-04-1.59.h5\n",
            "Epoch 5/25\n",
            "1562/1562 [==============================] - 144s 92ms/step - loss: 1.9505 - acc: 0.3328 - val_loss: 1.5470 - val_acc: 0.4752\n",
            "\n",
            "Epoch 00005: val_loss improved from 1.58894 to 1.54700, saving model to model_batch_normalized4/model_batch_normalized4-05-1.55.h5\n",
            "Epoch 6/25\n",
            "1562/1562 [==============================] - 142s 91ms/step - loss: 1.8817 - acc: 0.3506 - val_loss: 1.5019 - val_acc: 0.4961\n",
            "\n",
            "Epoch 00006: val_loss improved from 1.54700 to 1.50190, saving model to model_batch_normalized4/model_batch_normalized4-06-1.50.h5\n",
            "Epoch 7/25\n",
            "1562/1562 [==============================] - 142s 91ms/step - loss: 1.8253 - acc: 0.3703 - val_loss: 1.4589 - val_acc: 0.5063\n",
            "\n",
            "Epoch 00007: val_loss improved from 1.50190 to 1.45888, saving model to model_batch_normalized4/model_batch_normalized4-07-1.46.h5\n",
            "Epoch 8/25\n",
            "1562/1562 [==============================] - 143s 92ms/step - loss: 1.7750 - acc: 0.3835 - val_loss: 1.4255 - val_acc: 0.5216\n",
            "\n",
            "Epoch 00008: val_loss improved from 1.45888 to 1.42550, saving model to model_batch_normalized4/model_batch_normalized4-08-1.43.h5\n",
            "Epoch 9/25\n",
            "1562/1562 [==============================] - 145s 93ms/step - loss: 1.7245 - acc: 0.3986 - val_loss: 1.3890 - val_acc: 0.5368\n",
            "\n",
            "Epoch 00009: val_loss improved from 1.42550 to 1.38896, saving model to model_batch_normalized4/model_batch_normalized4-09-1.39.h5\n",
            "Epoch 10/25\n",
            "1562/1562 [==============================] - 146s 93ms/step - loss: 1.6873 - acc: 0.4110 - val_loss: 1.3637 - val_acc: 0.5449\n",
            "\n",
            "Epoch 00010: val_loss improved from 1.38896 to 1.36374, saving model to model_batch_normalized4/model_batch_normalized4-10-1.36.h5\n",
            "Epoch 11/25\n",
            "1562/1562 [==============================] - 145s 93ms/step - loss: 1.6421 - acc: 0.4241 - val_loss: 1.3322 - val_acc: 0.5585\n",
            "\n",
            "Epoch 00011: val_loss improved from 1.36374 to 1.33221, saving model to model_batch_normalized4/model_batch_normalized4-11-1.33.h5\n",
            "Epoch 12/25\n",
            "1562/1562 [==============================] - 144s 92ms/step - loss: 1.6204 - acc: 0.4307 - val_loss: 1.3012 - val_acc: 0.5710\n",
            "\n",
            "Epoch 00012: val_loss improved from 1.33221 to 1.30118, saving model to model_batch_normalized4/model_batch_normalized4-12-1.30.h5\n",
            "Epoch 13/25\n",
            "1562/1562 [==============================] - 141s 90ms/step - loss: 1.5811 - acc: 0.4471 - val_loss: 1.2739 - val_acc: 0.5814\n",
            "\n",
            "Epoch 00013: val_loss improved from 1.30118 to 1.27387, saving model to model_batch_normalized4/model_batch_normalized4-13-1.27.h5\n",
            "Epoch 14/25\n",
            "1562/1562 [==============================] - 146s 93ms/step - loss: 1.5574 - acc: 0.4534 - val_loss: 1.2496 - val_acc: 0.5913\n",
            "\n",
            "Epoch 00014: val_loss improved from 1.27387 to 1.24959, saving model to model_batch_normalized4/model_batch_normalized4-14-1.25.h5\n",
            "Epoch 15/25\n",
            "1562/1562 [==============================] - 142s 91ms/step - loss: 1.5234 - acc: 0.4653 - val_loss: 1.2292 - val_acc: 0.5965\n",
            "\n",
            "Epoch 00015: val_loss improved from 1.24959 to 1.22921, saving model to model_batch_normalized4/model_batch_normalized4-15-1.23.h5\n",
            "Epoch 16/25\n",
            "1562/1562 [==============================] - 144s 92ms/step - loss: 1.4887 - acc: 0.4777 - val_loss: 1.1969 - val_acc: 0.6123\n",
            "\n",
            "Epoch 00016: val_loss improved from 1.22921 to 1.19691, saving model to model_batch_normalized4/model_batch_normalized4-16-1.20.h5\n",
            "Epoch 17/25\n",
            "1562/1562 [==============================] - 143s 91ms/step - loss: 1.4806 - acc: 0.4830 - val_loss: 1.1890 - val_acc: 0.6103\n",
            "\n",
            "Epoch 00017: val_loss improved from 1.19691 to 1.18903, saving model to model_batch_normalized4/model_batch_normalized4-17-1.19.h5\n",
            "Epoch 18/25\n",
            "1562/1562 [==============================] - 144s 92ms/step - loss: 1.4490 - acc: 0.4920 - val_loss: 1.1524 - val_acc: 0.6252\n",
            "\n",
            "Epoch 00018: val_loss improved from 1.18903 to 1.15244, saving model to model_batch_normalized4/model_batch_normalized4-18-1.15.h5\n",
            "Epoch 19/25\n",
            "1562/1562 [==============================] - 142s 91ms/step - loss: 1.4280 - acc: 0.5005 - val_loss: 1.1375 - val_acc: 0.6321\n",
            "\n",
            "Epoch 00019: val_loss improved from 1.15244 to 1.13747, saving model to model_batch_normalized4/model_batch_normalized4-19-1.14.h5\n",
            "Epoch 20/25\n",
            "1561/1562 [============================>.] - ETA: 0s - loss: 1.4096 - acc: 0.5053"
          ],
          "name": "stdout"
        }
      ]
    },
    {
      "cell_type": "markdown",
      "metadata": {
        "id": "JpfHQNjaNTBN",
        "colab_type": "text"
      },
      "source": [
        "### Task 6.2 Plot loss and accuracy\n",
        "Plot the loss and accracy for best model selected in task 5.1, and model trained in 6.1.1, 6.1.2 and 6.1.3 task. Give the detailed analysis of the effect of learning rate in your words and select the best learning rate for this problem."
      ]
    },
    {
      "cell_type": "code",
      "metadata": {
        "id": "KY6jtry3tdiP",
        "colab_type": "code",
        "colab": {
          "base_uri": "https://localhost:8080/",
          "height": 362
        },
        "outputId": "5990b0f9-152c-4fce-8c4f-d0559d9a41b7"
      },
      "source": [
        "hists = [hist_normalized,hist_normalized2,histnormalized_4]\n",
        "names = ['model_normalized','model_normalized2','histnormalized_4']\n",
        "plotHistory(hists, names,'loss')"
      ],
      "execution_count": 114,
      "outputs": [
        {
          "output_type": "display_data",
          "data": {
            "image/png": "[encoded data removed]",
            "text/plain": [
              "<Figure size 576x396 with 1 Axes>"
            ]
          },
          "metadata": {
            "tags": []
          }
        }
      ]
    },
    {
      "cell_type": "code",
      "metadata": {
        "id": "oBxuNynyticm",
        "colab_type": "code",
        "colab": {
          "base_uri": "https://localhost:8080/",
          "height": 362
        },
        "outputId": "6c6b0286-3276-46a8-e465-e57aecae8af4"
      },
      "source": [
        "plotHistory(hists,names,'acc')"
      ],
      "execution_count": 115,
      "outputs": [
        {
          "output_type": "display_data",
          "data": {
            "image/png": "[encoded data removed]",
            "text/plain": [
              "<Figure size 576x396 with 1 Axes>"
            ]
          },
          "metadata": {
            "tags": []
          }
        }
      ]
    },
    {
      "cell_type": "markdown",
      "metadata": {
        "id": "uUS06r7pNTBO",
        "colab_type": "text"
      },
      "source": [
        "Analysis: a very high learning rate overshoots accuracy.Lowering the learning rate from 0.001 to 0.0001 increases accuracy"
      ]
    }
  ]
}